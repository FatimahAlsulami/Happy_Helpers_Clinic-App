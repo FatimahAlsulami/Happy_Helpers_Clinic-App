{
  "cells": [
    {
      "cell_type": "markdown",
      "metadata": {
        "id": "view-in-github",
        "colab_type": "text"
      },
      "source": [
        "<a href=\"https://colab.research.google.com/github/FatimahAlsulami/Happy_Helpers_Clinic-App/blob/main/Coding.ipynb\" target=\"_parent\"><img src=\"https://colab.research.google.com/assets/colab-badge.svg\" alt=\"Open In Colab\"/></a>"
      ]
    },
    {
      "cell_type": "code",
      "execution_count": null,
      "metadata": {
        "id": "ZBd7FxyMxZ4d"
      },
      "outputs": [],
      "source": [
        "import pandas as pd\n",
        "import matplotlib.pyplot as plt\n",
        "import seaborn as sns\n",
        "%matplotlib inline\n",
        "from sklearn.model_selection import train_test_split\n",
        "from sklearn.preprocessing import StandardScaler\n",
        "from sklearn.feature_selection import RFE\n",
        "from sklearn.ensemble import RandomForestClassifier\n",
        "from sklearn import metrics\n",
        "from sklearn.naive_bayes import GaussianNB\n",
        "from sklearn.metrics import accuracy_score\n",
        "from sklearn.metrics import precision_score \n",
        "from sklearn.tree import DecisionTreeClassifier\n",
        "from sklearn.model_selection import cross_val_score"
      ]
    },
    {
      "cell_type": "code",
      "execution_count": null,
      "metadata": {
        "colab": {
          "base_uri": "https://localhost:8080/",
          "height": 423
        },
        "id": "jXHei9WkxgAb",
        "outputId": "99f96081-bd4f-45df-e06b-1b7f5b1c82a2"
      },
      "outputs": [
        {
          "output_type": "execute_result",
          "data": {
            "text/plain": [
              "             ph    Hardness        Solids  Chloramines     Sulfate  \\\n",
              "0      7.080795  219.674262  22210.613083     5.875041  333.775777   \n",
              "1      6.783888  193.653581  13677.106441     5.171454  323.728663   \n",
              "2      6.010618  184.558582  15940.573271     8.165222  421.486089   \n",
              "3      8.097454  218.992436  18112.284447     6.196947  333.775777   \n",
              "4      8.072612  210.269780  16843.363927     8.793459  359.516169   \n",
              "...         ...         ...           ...          ...         ...   \n",
              "2288   8.124208  207.509515  26489.114701     8.540837  318.059624   \n",
              "2289  10.391942  262.741770  39116.682706     3.205786  285.728420   \n",
              "2290   7.790875  196.478712  24061.349596     6.785685  350.117254   \n",
              "2291   6.139743  168.444214  23894.136010     9.494582  318.026087   \n",
              "2292   7.080795  143.300200  16263.167465     6.229737  333.775777   \n",
              "\n",
              "      Conductivity  Organic_carbon  Trihalomethanes  Turbidity  Potability  \n",
              "0       398.517703       11.502316       112.412210   2.994259           0  \n",
              "1       477.854687       15.056064        66.396293   3.250022           0  \n",
              "2       314.529813       20.314617        83.707938   4.867287           1  \n",
              "3       376.569803       17.746264        59.909941   4.279082           1  \n",
              "4       559.167574       17.263576        68.738989   5.082206           0  \n",
              "...            ...             ...              ...        ...         ...  \n",
              "2288    431.625677       10.075598        63.984225   4.724457           0  \n",
              "2289    473.313969       13.300688        65.318816   5.771715           0  \n",
              "2290    471.518536       15.343316        44.544627   3.076214           0  \n",
              "2291    494.129125       19.116022        60.264767   3.841222           0  \n",
              "2292    503.664085       19.585497        66.396293   3.451740           1  \n",
              "\n",
              "[2293 rows x 10 columns]"
            ],
            "text/html": [
              "\n",
              "  <div id=\"df-d2ab0a9e-b053-4308-96d0-188df7975a81\">\n",
              "    <div class=\"colab-df-container\">\n",
              "      <div>\n",
              "<style scoped>\n",
              "    .dataframe tbody tr th:only-of-type {\n",
              "        vertical-align: middle;\n",
              "    }\n",
              "\n",
              "    .dataframe tbody tr th {\n",
              "        vertical-align: top;\n",
              "    }\n",
              "\n",
              "    .dataframe thead th {\n",
              "        text-align: right;\n",
              "    }\n",
              "</style>\n",
              "<table border=\"1\" class=\"dataframe\">\n",
              "  <thead>\n",
              "    <tr style=\"text-align: right;\">\n",
              "      <th></th>\n",
              "      <th>ph</th>\n",
              "      <th>Hardness</th>\n",
              "      <th>Solids</th>\n",
              "      <th>Chloramines</th>\n",
              "      <th>Sulfate</th>\n",
              "      <th>Conductivity</th>\n",
              "      <th>Organic_carbon</th>\n",
              "      <th>Trihalomethanes</th>\n",
              "      <th>Turbidity</th>\n",
              "      <th>Potability</th>\n",
              "    </tr>\n",
              "  </thead>\n",
              "  <tbody>\n",
              "    <tr>\n",
              "      <th>0</th>\n",
              "      <td>7.080795</td>\n",
              "      <td>219.674262</td>\n",
              "      <td>22210.613083</td>\n",
              "      <td>5.875041</td>\n",
              "      <td>333.775777</td>\n",
              "      <td>398.517703</td>\n",
              "      <td>11.502316</td>\n",
              "      <td>112.412210</td>\n",
              "      <td>2.994259</td>\n",
              "      <td>0</td>\n",
              "    </tr>\n",
              "    <tr>\n",
              "      <th>1</th>\n",
              "      <td>6.783888</td>\n",
              "      <td>193.653581</td>\n",
              "      <td>13677.106441</td>\n",
              "      <td>5.171454</td>\n",
              "      <td>323.728663</td>\n",
              "      <td>477.854687</td>\n",
              "      <td>15.056064</td>\n",
              "      <td>66.396293</td>\n",
              "      <td>3.250022</td>\n",
              "      <td>0</td>\n",
              "    </tr>\n",
              "    <tr>\n",
              "      <th>2</th>\n",
              "      <td>6.010618</td>\n",
              "      <td>184.558582</td>\n",
              "      <td>15940.573271</td>\n",
              "      <td>8.165222</td>\n",
              "      <td>421.486089</td>\n",
              "      <td>314.529813</td>\n",
              "      <td>20.314617</td>\n",
              "      <td>83.707938</td>\n",
              "      <td>4.867287</td>\n",
              "      <td>1</td>\n",
              "    </tr>\n",
              "    <tr>\n",
              "      <th>3</th>\n",
              "      <td>8.097454</td>\n",
              "      <td>218.992436</td>\n",
              "      <td>18112.284447</td>\n",
              "      <td>6.196947</td>\n",
              "      <td>333.775777</td>\n",
              "      <td>376.569803</td>\n",
              "      <td>17.746264</td>\n",
              "      <td>59.909941</td>\n",
              "      <td>4.279082</td>\n",
              "      <td>1</td>\n",
              "    </tr>\n",
              "    <tr>\n",
              "      <th>4</th>\n",
              "      <td>8.072612</td>\n",
              "      <td>210.269780</td>\n",
              "      <td>16843.363927</td>\n",
              "      <td>8.793459</td>\n",
              "      <td>359.516169</td>\n",
              "      <td>559.167574</td>\n",
              "      <td>17.263576</td>\n",
              "      <td>68.738989</td>\n",
              "      <td>5.082206</td>\n",
              "      <td>0</td>\n",
              "    </tr>\n",
              "    <tr>\n",
              "      <th>...</th>\n",
              "      <td>...</td>\n",
              "      <td>...</td>\n",
              "      <td>...</td>\n",
              "      <td>...</td>\n",
              "      <td>...</td>\n",
              "      <td>...</td>\n",
              "      <td>...</td>\n",
              "      <td>...</td>\n",
              "      <td>...</td>\n",
              "      <td>...</td>\n",
              "    </tr>\n",
              "    <tr>\n",
              "      <th>2288</th>\n",
              "      <td>8.124208</td>\n",
              "      <td>207.509515</td>\n",
              "      <td>26489.114701</td>\n",
              "      <td>8.540837</td>\n",
              "      <td>318.059624</td>\n",
              "      <td>431.625677</td>\n",
              "      <td>10.075598</td>\n",
              "      <td>63.984225</td>\n",
              "      <td>4.724457</td>\n",
              "      <td>0</td>\n",
              "    </tr>\n",
              "    <tr>\n",
              "      <th>2289</th>\n",
              "      <td>10.391942</td>\n",
              "      <td>262.741770</td>\n",
              "      <td>39116.682706</td>\n",
              "      <td>3.205786</td>\n",
              "      <td>285.728420</td>\n",
              "      <td>473.313969</td>\n",
              "      <td>13.300688</td>\n",
              "      <td>65.318816</td>\n",
              "      <td>5.771715</td>\n",
              "      <td>0</td>\n",
              "    </tr>\n",
              "    <tr>\n",
              "      <th>2290</th>\n",
              "      <td>7.790875</td>\n",
              "      <td>196.478712</td>\n",
              "      <td>24061.349596</td>\n",
              "      <td>6.785685</td>\n",
              "      <td>350.117254</td>\n",
              "      <td>471.518536</td>\n",
              "      <td>15.343316</td>\n",
              "      <td>44.544627</td>\n",
              "      <td>3.076214</td>\n",
              "      <td>0</td>\n",
              "    </tr>\n",
              "    <tr>\n",
              "      <th>2291</th>\n",
              "      <td>6.139743</td>\n",
              "      <td>168.444214</td>\n",
              "      <td>23894.136010</td>\n",
              "      <td>9.494582</td>\n",
              "      <td>318.026087</td>\n",
              "      <td>494.129125</td>\n",
              "      <td>19.116022</td>\n",
              "      <td>60.264767</td>\n",
              "      <td>3.841222</td>\n",
              "      <td>0</td>\n",
              "    </tr>\n",
              "    <tr>\n",
              "      <th>2292</th>\n",
              "      <td>7.080795</td>\n",
              "      <td>143.300200</td>\n",
              "      <td>16263.167465</td>\n",
              "      <td>6.229737</td>\n",
              "      <td>333.775777</td>\n",
              "      <td>503.664085</td>\n",
              "      <td>19.585497</td>\n",
              "      <td>66.396293</td>\n",
              "      <td>3.451740</td>\n",
              "      <td>1</td>\n",
              "    </tr>\n",
              "  </tbody>\n",
              "</table>\n",
              "<p>2293 rows × 10 columns</p>\n",
              "</div>\n",
              "      <button class=\"colab-df-convert\" onclick=\"convertToInteractive('df-d2ab0a9e-b053-4308-96d0-188df7975a81')\"\n",
              "              title=\"Convert this dataframe to an interactive table.\"\n",
              "              style=\"display:none;\">\n",
              "        \n",
              "  <svg xmlns=\"http://www.w3.org/2000/svg\" height=\"24px\"viewBox=\"0 0 24 24\"\n",
              "       width=\"24px\">\n",
              "    <path d=\"M0 0h24v24H0V0z\" fill=\"none\"/>\n",
              "    <path d=\"M18.56 5.44l.94 2.06.94-2.06 2.06-.94-2.06-.94-.94-2.06-.94 2.06-2.06.94zm-11 1L8.5 8.5l.94-2.06 2.06-.94-2.06-.94L8.5 2.5l-.94 2.06-2.06.94zm10 10l.94 2.06.94-2.06 2.06-.94-2.06-.94-.94-2.06-.94 2.06-2.06.94z\"/><path d=\"M17.41 7.96l-1.37-1.37c-.4-.4-.92-.59-1.43-.59-.52 0-1.04.2-1.43.59L10.3 9.45l-7.72 7.72c-.78.78-.78 2.05 0 2.83L4 21.41c.39.39.9.59 1.41.59.51 0 1.02-.2 1.41-.59l7.78-7.78 2.81-2.81c.8-.78.8-2.07 0-2.86zM5.41 20L4 18.59l7.72-7.72 1.47 1.35L5.41 20z\"/>\n",
              "  </svg>\n",
              "      </button>\n",
              "      \n",
              "  <style>\n",
              "    .colab-df-container {\n",
              "      display:flex;\n",
              "      flex-wrap:wrap;\n",
              "      gap: 12px;\n",
              "    }\n",
              "\n",
              "    .colab-df-convert {\n",
              "      background-color: #E8F0FE;\n",
              "      border: none;\n",
              "      border-radius: 50%;\n",
              "      cursor: pointer;\n",
              "      display: none;\n",
              "      fill: #1967D2;\n",
              "      height: 32px;\n",
              "      padding: 0 0 0 0;\n",
              "      width: 32px;\n",
              "    }\n",
              "\n",
              "    .colab-df-convert:hover {\n",
              "      background-color: #E2EBFA;\n",
              "      box-shadow: 0px 1px 2px rgba(60, 64, 67, 0.3), 0px 1px 3px 1px rgba(60, 64, 67, 0.15);\n",
              "      fill: #174EA6;\n",
              "    }\n",
              "\n",
              "    [theme=dark] .colab-df-convert {\n",
              "      background-color: #3B4455;\n",
              "      fill: #D2E3FC;\n",
              "    }\n",
              "\n",
              "    [theme=dark] .colab-df-convert:hover {\n",
              "      background-color: #434B5C;\n",
              "      box-shadow: 0px 1px 3px 1px rgba(0, 0, 0, 0.15);\n",
              "      filter: drop-shadow(0px 1px 2px rgba(0, 0, 0, 0.3));\n",
              "      fill: #FFFFFF;\n",
              "    }\n",
              "  </style>\n",
              "\n",
              "      <script>\n",
              "        const buttonEl =\n",
              "          document.querySelector('#df-d2ab0a9e-b053-4308-96d0-188df7975a81 button.colab-df-convert');\n",
              "        buttonEl.style.display =\n",
              "          google.colab.kernel.accessAllowed ? 'block' : 'none';\n",
              "\n",
              "        async function convertToInteractive(key) {\n",
              "          const element = document.querySelector('#df-d2ab0a9e-b053-4308-96d0-188df7975a81');\n",
              "          const dataTable =\n",
              "            await google.colab.kernel.invokeFunction('convertToInteractive',\n",
              "                                                     [key], {});\n",
              "          if (!dataTable) return;\n",
              "\n",
              "          const docLinkHtml = 'Like what you see? Visit the ' +\n",
              "            '<a target=\"_blank\" href=https://colab.research.google.com/notebooks/data_table.ipynb>data table notebook</a>'\n",
              "            + ' to learn more about interactive tables.';\n",
              "          element.innerHTML = '';\n",
              "          dataTable['output_type'] = 'display_data';\n",
              "          await google.colab.output.renderOutput(dataTable, element);\n",
              "          const docLink = document.createElement('div');\n",
              "          docLink.innerHTML = docLinkHtml;\n",
              "          element.appendChild(docLink);\n",
              "        }\n",
              "      </script>\n",
              "    </div>\n",
              "  </div>\n",
              "  "
            ]
          },
          "metadata": {},
          "execution_count": 3
        }
      ],
      "source": [
        "train_data= pd.read_excel(\"train_dataset.xlsx\")\n",
        "train_data"
      ]
    },
    {
      "cell_type": "markdown",
      "metadata": {
        "id": "hZBFSyiBlTDb"
      },
      "source": [
        "# **Data exploration and visualization**"
      ]
    },
    {
      "cell_type": "markdown",
      "metadata": {
        "id": "T1FJFomblbzl"
      },
      "source": [
        "**Data exploration**"
      ]
    },
    {
      "cell_type": "code",
      "execution_count": null,
      "metadata": {
        "colab": {
          "base_uri": "https://localhost:8080/",
          "height": 206
        },
        "id": "90rhleGicDkX",
        "outputId": "d415b9c0-2738-4845-ad4c-166dcf2c5822"
      },
      "outputs": [
        {
          "output_type": "execute_result",
          "data": {
            "text/plain": [
              "         ph    Hardness        Solids  Chloramines     Sulfate  Conductivity  \\\n",
              "0  7.080795  219.674262  22210.613083     5.875041  333.775777    398.517703   \n",
              "1  6.783888  193.653581  13677.106441     5.171454  323.728663    477.854687   \n",
              "2  6.010618  184.558582  15940.573271     8.165222  421.486089    314.529813   \n",
              "3  8.097454  218.992436  18112.284447     6.196947  333.775777    376.569803   \n",
              "4  8.072612  210.269780  16843.363927     8.793459  359.516169    559.167574   \n",
              "\n",
              "   Organic_carbon  Trihalomethanes  Turbidity  Potability  \n",
              "0       11.502316       112.412210   2.994259           0  \n",
              "1       15.056064        66.396293   3.250022           0  \n",
              "2       20.314617        83.707938   4.867287           1  \n",
              "3       17.746264        59.909941   4.279082           1  \n",
              "4       17.263576        68.738989   5.082206           0  "
            ],
            "text/html": [
              "\n",
              "  <div id=\"df-c79cd5a6-5426-4e48-b39e-ed6ef7bd1877\">\n",
              "    <div class=\"colab-df-container\">\n",
              "      <div>\n",
              "<style scoped>\n",
              "    .dataframe tbody tr th:only-of-type {\n",
              "        vertical-align: middle;\n",
              "    }\n",
              "\n",
              "    .dataframe tbody tr th {\n",
              "        vertical-align: top;\n",
              "    }\n",
              "\n",
              "    .dataframe thead th {\n",
              "        text-align: right;\n",
              "    }\n",
              "</style>\n",
              "<table border=\"1\" class=\"dataframe\">\n",
              "  <thead>\n",
              "    <tr style=\"text-align: right;\">\n",
              "      <th></th>\n",
              "      <th>ph</th>\n",
              "      <th>Hardness</th>\n",
              "      <th>Solids</th>\n",
              "      <th>Chloramines</th>\n",
              "      <th>Sulfate</th>\n",
              "      <th>Conductivity</th>\n",
              "      <th>Organic_carbon</th>\n",
              "      <th>Trihalomethanes</th>\n",
              "      <th>Turbidity</th>\n",
              "      <th>Potability</th>\n",
              "    </tr>\n",
              "  </thead>\n",
              "  <tbody>\n",
              "    <tr>\n",
              "      <th>0</th>\n",
              "      <td>7.080795</td>\n",
              "      <td>219.674262</td>\n",
              "      <td>22210.613083</td>\n",
              "      <td>5.875041</td>\n",
              "      <td>333.775777</td>\n",
              "      <td>398.517703</td>\n",
              "      <td>11.502316</td>\n",
              "      <td>112.412210</td>\n",
              "      <td>2.994259</td>\n",
              "      <td>0</td>\n",
              "    </tr>\n",
              "    <tr>\n",
              "      <th>1</th>\n",
              "      <td>6.783888</td>\n",
              "      <td>193.653581</td>\n",
              "      <td>13677.106441</td>\n",
              "      <td>5.171454</td>\n",
              "      <td>323.728663</td>\n",
              "      <td>477.854687</td>\n",
              "      <td>15.056064</td>\n",
              "      <td>66.396293</td>\n",
              "      <td>3.250022</td>\n",
              "      <td>0</td>\n",
              "    </tr>\n",
              "    <tr>\n",
              "      <th>2</th>\n",
              "      <td>6.010618</td>\n",
              "      <td>184.558582</td>\n",
              "      <td>15940.573271</td>\n",
              "      <td>8.165222</td>\n",
              "      <td>421.486089</td>\n",
              "      <td>314.529813</td>\n",
              "      <td>20.314617</td>\n",
              "      <td>83.707938</td>\n",
              "      <td>4.867287</td>\n",
              "      <td>1</td>\n",
              "    </tr>\n",
              "    <tr>\n",
              "      <th>3</th>\n",
              "      <td>8.097454</td>\n",
              "      <td>218.992436</td>\n",
              "      <td>18112.284447</td>\n",
              "      <td>6.196947</td>\n",
              "      <td>333.775777</td>\n",
              "      <td>376.569803</td>\n",
              "      <td>17.746264</td>\n",
              "      <td>59.909941</td>\n",
              "      <td>4.279082</td>\n",
              "      <td>1</td>\n",
              "    </tr>\n",
              "    <tr>\n",
              "      <th>4</th>\n",
              "      <td>8.072612</td>\n",
              "      <td>210.269780</td>\n",
              "      <td>16843.363927</td>\n",
              "      <td>8.793459</td>\n",
              "      <td>359.516169</td>\n",
              "      <td>559.167574</td>\n",
              "      <td>17.263576</td>\n",
              "      <td>68.738989</td>\n",
              "      <td>5.082206</td>\n",
              "      <td>0</td>\n",
              "    </tr>\n",
              "  </tbody>\n",
              "</table>\n",
              "</div>\n",
              "      <button class=\"colab-df-convert\" onclick=\"convertToInteractive('df-c79cd5a6-5426-4e48-b39e-ed6ef7bd1877')\"\n",
              "              title=\"Convert this dataframe to an interactive table.\"\n",
              "              style=\"display:none;\">\n",
              "        \n",
              "  <svg xmlns=\"http://www.w3.org/2000/svg\" height=\"24px\"viewBox=\"0 0 24 24\"\n",
              "       width=\"24px\">\n",
              "    <path d=\"M0 0h24v24H0V0z\" fill=\"none\"/>\n",
              "    <path d=\"M18.56 5.44l.94 2.06.94-2.06 2.06-.94-2.06-.94-.94-2.06-.94 2.06-2.06.94zm-11 1L8.5 8.5l.94-2.06 2.06-.94-2.06-.94L8.5 2.5l-.94 2.06-2.06.94zm10 10l.94 2.06.94-2.06 2.06-.94-2.06-.94-.94-2.06-.94 2.06-2.06.94z\"/><path d=\"M17.41 7.96l-1.37-1.37c-.4-.4-.92-.59-1.43-.59-.52 0-1.04.2-1.43.59L10.3 9.45l-7.72 7.72c-.78.78-.78 2.05 0 2.83L4 21.41c.39.39.9.59 1.41.59.51 0 1.02-.2 1.41-.59l7.78-7.78 2.81-2.81c.8-.78.8-2.07 0-2.86zM5.41 20L4 18.59l7.72-7.72 1.47 1.35L5.41 20z\"/>\n",
              "  </svg>\n",
              "      </button>\n",
              "      \n",
              "  <style>\n",
              "    .colab-df-container {\n",
              "      display:flex;\n",
              "      flex-wrap:wrap;\n",
              "      gap: 12px;\n",
              "    }\n",
              "\n",
              "    .colab-df-convert {\n",
              "      background-color: #E8F0FE;\n",
              "      border: none;\n",
              "      border-radius: 50%;\n",
              "      cursor: pointer;\n",
              "      display: none;\n",
              "      fill: #1967D2;\n",
              "      height: 32px;\n",
              "      padding: 0 0 0 0;\n",
              "      width: 32px;\n",
              "    }\n",
              "\n",
              "    .colab-df-convert:hover {\n",
              "      background-color: #E2EBFA;\n",
              "      box-shadow: 0px 1px 2px rgba(60, 64, 67, 0.3), 0px 1px 3px 1px rgba(60, 64, 67, 0.15);\n",
              "      fill: #174EA6;\n",
              "    }\n",
              "\n",
              "    [theme=dark] .colab-df-convert {\n",
              "      background-color: #3B4455;\n",
              "      fill: #D2E3FC;\n",
              "    }\n",
              "\n",
              "    [theme=dark] .colab-df-convert:hover {\n",
              "      background-color: #434B5C;\n",
              "      box-shadow: 0px 1px 3px 1px rgba(0, 0, 0, 0.15);\n",
              "      filter: drop-shadow(0px 1px 2px rgba(0, 0, 0, 0.3));\n",
              "      fill: #FFFFFF;\n",
              "    }\n",
              "  </style>\n",
              "\n",
              "      <script>\n",
              "        const buttonEl =\n",
              "          document.querySelector('#df-c79cd5a6-5426-4e48-b39e-ed6ef7bd1877 button.colab-df-convert');\n",
              "        buttonEl.style.display =\n",
              "          google.colab.kernel.accessAllowed ? 'block' : 'none';\n",
              "\n",
              "        async function convertToInteractive(key) {\n",
              "          const element = document.querySelector('#df-c79cd5a6-5426-4e48-b39e-ed6ef7bd1877');\n",
              "          const dataTable =\n",
              "            await google.colab.kernel.invokeFunction('convertToInteractive',\n",
              "                                                     [key], {});\n",
              "          if (!dataTable) return;\n",
              "\n",
              "          const docLinkHtml = 'Like what you see? Visit the ' +\n",
              "            '<a target=\"_blank\" href=https://colab.research.google.com/notebooks/data_table.ipynb>data table notebook</a>'\n",
              "            + ' to learn more about interactive tables.';\n",
              "          element.innerHTML = '';\n",
              "          dataTable['output_type'] = 'display_data';\n",
              "          await google.colab.output.renderOutput(dataTable, element);\n",
              "          const docLink = document.createElement('div');\n",
              "          docLink.innerHTML = docLinkHtml;\n",
              "          element.appendChild(docLink);\n",
              "        }\n",
              "      </script>\n",
              "    </div>\n",
              "  </div>\n",
              "  "
            ]
          },
          "metadata": {},
          "execution_count": 4
        }
      ],
      "source": [
        "#print first 5 rows\n",
        "train_data.head()"
      ]
    },
    {
      "cell_type": "code",
      "execution_count": null,
      "metadata": {
        "colab": {
          "base_uri": "https://localhost:8080/",
          "height": 206
        },
        "id": "OVvKSxSCcXTB",
        "outputId": "049195ba-b277-4af4-bfdf-f6c3e88e63c0"
      },
      "outputs": [
        {
          "output_type": "execute_result",
          "data": {
            "text/plain": [
              "             ph    Hardness        Solids  Chloramines     Sulfate  \\\n",
              "2288   8.124208  207.509515  26489.114701     8.540837  318.059624   \n",
              "2289  10.391942  262.741770  39116.682706     3.205786  285.728420   \n",
              "2290   7.790875  196.478712  24061.349596     6.785685  350.117254   \n",
              "2291   6.139743  168.444214  23894.136010     9.494582  318.026087   \n",
              "2292   7.080795  143.300200  16263.167465     6.229737  333.775777   \n",
              "\n",
              "      Conductivity  Organic_carbon  Trihalomethanes  Turbidity  Potability  \n",
              "2288    431.625677       10.075598        63.984225   4.724457           0  \n",
              "2289    473.313969       13.300688        65.318816   5.771715           0  \n",
              "2290    471.518536       15.343316        44.544627   3.076214           0  \n",
              "2291    494.129125       19.116022        60.264767   3.841222           0  \n",
              "2292    503.664085       19.585497        66.396293   3.451740           1  "
            ],
            "text/html": [
              "\n",
              "  <div id=\"df-44f59dfa-3402-4021-b053-ac20116fd86b\">\n",
              "    <div class=\"colab-df-container\">\n",
              "      <div>\n",
              "<style scoped>\n",
              "    .dataframe tbody tr th:only-of-type {\n",
              "        vertical-align: middle;\n",
              "    }\n",
              "\n",
              "    .dataframe tbody tr th {\n",
              "        vertical-align: top;\n",
              "    }\n",
              "\n",
              "    .dataframe thead th {\n",
              "        text-align: right;\n",
              "    }\n",
              "</style>\n",
              "<table border=\"1\" class=\"dataframe\">\n",
              "  <thead>\n",
              "    <tr style=\"text-align: right;\">\n",
              "      <th></th>\n",
              "      <th>ph</th>\n",
              "      <th>Hardness</th>\n",
              "      <th>Solids</th>\n",
              "      <th>Chloramines</th>\n",
              "      <th>Sulfate</th>\n",
              "      <th>Conductivity</th>\n",
              "      <th>Organic_carbon</th>\n",
              "      <th>Trihalomethanes</th>\n",
              "      <th>Turbidity</th>\n",
              "      <th>Potability</th>\n",
              "    </tr>\n",
              "  </thead>\n",
              "  <tbody>\n",
              "    <tr>\n",
              "      <th>2288</th>\n",
              "      <td>8.124208</td>\n",
              "      <td>207.509515</td>\n",
              "      <td>26489.114701</td>\n",
              "      <td>8.540837</td>\n",
              "      <td>318.059624</td>\n",
              "      <td>431.625677</td>\n",
              "      <td>10.075598</td>\n",
              "      <td>63.984225</td>\n",
              "      <td>4.724457</td>\n",
              "      <td>0</td>\n",
              "    </tr>\n",
              "    <tr>\n",
              "      <th>2289</th>\n",
              "      <td>10.391942</td>\n",
              "      <td>262.741770</td>\n",
              "      <td>39116.682706</td>\n",
              "      <td>3.205786</td>\n",
              "      <td>285.728420</td>\n",
              "      <td>473.313969</td>\n",
              "      <td>13.300688</td>\n",
              "      <td>65.318816</td>\n",
              "      <td>5.771715</td>\n",
              "      <td>0</td>\n",
              "    </tr>\n",
              "    <tr>\n",
              "      <th>2290</th>\n",
              "      <td>7.790875</td>\n",
              "      <td>196.478712</td>\n",
              "      <td>24061.349596</td>\n",
              "      <td>6.785685</td>\n",
              "      <td>350.117254</td>\n",
              "      <td>471.518536</td>\n",
              "      <td>15.343316</td>\n",
              "      <td>44.544627</td>\n",
              "      <td>3.076214</td>\n",
              "      <td>0</td>\n",
              "    </tr>\n",
              "    <tr>\n",
              "      <th>2291</th>\n",
              "      <td>6.139743</td>\n",
              "      <td>168.444214</td>\n",
              "      <td>23894.136010</td>\n",
              "      <td>9.494582</td>\n",
              "      <td>318.026087</td>\n",
              "      <td>494.129125</td>\n",
              "      <td>19.116022</td>\n",
              "      <td>60.264767</td>\n",
              "      <td>3.841222</td>\n",
              "      <td>0</td>\n",
              "    </tr>\n",
              "    <tr>\n",
              "      <th>2292</th>\n",
              "      <td>7.080795</td>\n",
              "      <td>143.300200</td>\n",
              "      <td>16263.167465</td>\n",
              "      <td>6.229737</td>\n",
              "      <td>333.775777</td>\n",
              "      <td>503.664085</td>\n",
              "      <td>19.585497</td>\n",
              "      <td>66.396293</td>\n",
              "      <td>3.451740</td>\n",
              "      <td>1</td>\n",
              "    </tr>\n",
              "  </tbody>\n",
              "</table>\n",
              "</div>\n",
              "      <button class=\"colab-df-convert\" onclick=\"convertToInteractive('df-44f59dfa-3402-4021-b053-ac20116fd86b')\"\n",
              "              title=\"Convert this dataframe to an interactive table.\"\n",
              "              style=\"display:none;\">\n",
              "        \n",
              "  <svg xmlns=\"http://www.w3.org/2000/svg\" height=\"24px\"viewBox=\"0 0 24 24\"\n",
              "       width=\"24px\">\n",
              "    <path d=\"M0 0h24v24H0V0z\" fill=\"none\"/>\n",
              "    <path d=\"M18.56 5.44l.94 2.06.94-2.06 2.06-.94-2.06-.94-.94-2.06-.94 2.06-2.06.94zm-11 1L8.5 8.5l.94-2.06 2.06-.94-2.06-.94L8.5 2.5l-.94 2.06-2.06.94zm10 10l.94 2.06.94-2.06 2.06-.94-2.06-.94-.94-2.06-.94 2.06-2.06.94z\"/><path d=\"M17.41 7.96l-1.37-1.37c-.4-.4-.92-.59-1.43-.59-.52 0-1.04.2-1.43.59L10.3 9.45l-7.72 7.72c-.78.78-.78 2.05 0 2.83L4 21.41c.39.39.9.59 1.41.59.51 0 1.02-.2 1.41-.59l7.78-7.78 2.81-2.81c.8-.78.8-2.07 0-2.86zM5.41 20L4 18.59l7.72-7.72 1.47 1.35L5.41 20z\"/>\n",
              "  </svg>\n",
              "      </button>\n",
              "      \n",
              "  <style>\n",
              "    .colab-df-container {\n",
              "      display:flex;\n",
              "      flex-wrap:wrap;\n",
              "      gap: 12px;\n",
              "    }\n",
              "\n",
              "    .colab-df-convert {\n",
              "      background-color: #E8F0FE;\n",
              "      border: none;\n",
              "      border-radius: 50%;\n",
              "      cursor: pointer;\n",
              "      display: none;\n",
              "      fill: #1967D2;\n",
              "      height: 32px;\n",
              "      padding: 0 0 0 0;\n",
              "      width: 32px;\n",
              "    }\n",
              "\n",
              "    .colab-df-convert:hover {\n",
              "      background-color: #E2EBFA;\n",
              "      box-shadow: 0px 1px 2px rgba(60, 64, 67, 0.3), 0px 1px 3px 1px rgba(60, 64, 67, 0.15);\n",
              "      fill: #174EA6;\n",
              "    }\n",
              "\n",
              "    [theme=dark] .colab-df-convert {\n",
              "      background-color: #3B4455;\n",
              "      fill: #D2E3FC;\n",
              "    }\n",
              "\n",
              "    [theme=dark] .colab-df-convert:hover {\n",
              "      background-color: #434B5C;\n",
              "      box-shadow: 0px 1px 3px 1px rgba(0, 0, 0, 0.15);\n",
              "      filter: drop-shadow(0px 1px 2px rgba(0, 0, 0, 0.3));\n",
              "      fill: #FFFFFF;\n",
              "    }\n",
              "  </style>\n",
              "\n",
              "      <script>\n",
              "        const buttonEl =\n",
              "          document.querySelector('#df-44f59dfa-3402-4021-b053-ac20116fd86b button.colab-df-convert');\n",
              "        buttonEl.style.display =\n",
              "          google.colab.kernel.accessAllowed ? 'block' : 'none';\n",
              "\n",
              "        async function convertToInteractive(key) {\n",
              "          const element = document.querySelector('#df-44f59dfa-3402-4021-b053-ac20116fd86b');\n",
              "          const dataTable =\n",
              "            await google.colab.kernel.invokeFunction('convertToInteractive',\n",
              "                                                     [key], {});\n",
              "          if (!dataTable) return;\n",
              "\n",
              "          const docLinkHtml = 'Like what you see? Visit the ' +\n",
              "            '<a target=\"_blank\" href=https://colab.research.google.com/notebooks/data_table.ipynb>data table notebook</a>'\n",
              "            + ' to learn more about interactive tables.';\n",
              "          element.innerHTML = '';\n",
              "          dataTable['output_type'] = 'display_data';\n",
              "          await google.colab.output.renderOutput(dataTable, element);\n",
              "          const docLink = document.createElement('div');\n",
              "          docLink.innerHTML = docLinkHtml;\n",
              "          element.appendChild(docLink);\n",
              "        }\n",
              "      </script>\n",
              "    </div>\n",
              "  </div>\n",
              "  "
            ]
          },
          "metadata": {},
          "execution_count": 5
        }
      ],
      "source": [
        "#print last 5 rows\n",
        "train_data.tail()"
      ]
    },
    {
      "cell_type": "code",
      "execution_count": null,
      "metadata": {
        "colab": {
          "base_uri": "https://localhost:8080/"
        },
        "id": "OrHCTmLXymik",
        "outputId": "432c9760-900e-4c0c-dd80-f0a8c3dbe8ae"
      },
      "outputs": [
        {
          "output_type": "stream",
          "name": "stdout",
          "text": [
            "<class 'pandas.core.frame.DataFrame'>\n",
            "RangeIndex: 2293 entries, 0 to 2292\n",
            "Data columns (total 10 columns):\n",
            " #   Column           Non-Null Count  Dtype  \n",
            "---  ------           --------------  -----  \n",
            " 0   ph               2293 non-null   float64\n",
            " 1   Hardness         2293 non-null   float64\n",
            " 2   Solids           2293 non-null   float64\n",
            " 3   Chloramines      2293 non-null   float64\n",
            " 4   Sulfate          2293 non-null   float64\n",
            " 5   Conductivity     2293 non-null   float64\n",
            " 6   Organic_carbon   2293 non-null   float64\n",
            " 7   Trihalomethanes  2293 non-null   float64\n",
            " 8   Turbidity        2293 non-null   float64\n",
            " 9   Potability       2293 non-null   int64  \n",
            "dtypes: float64(9), int64(1)\n",
            "memory usage: 179.3 KB\n"
          ]
        }
      ],
      "source": [
        "#data information\n",
        "train_data.info()"
      ]
    },
    {
      "cell_type": "code",
      "execution_count": null,
      "metadata": {
        "colab": {
          "base_uri": "https://localhost:8080/",
          "height": 363
        },
        "id": "5pJthqs0T2fo",
        "outputId": "89ed9e90-e54c-42a7-a256-39d956a972b7"
      },
      "outputs": [
        {
          "output_type": "execute_result",
          "data": {
            "text/plain": [
              "                  count          mean          std         min           25%  \\\n",
              "ph               2293.0      7.082265     1.486029    0.000000      6.262799   \n",
              "Hardness         2293.0    196.390335    32.460633   47.432000    176.753500   \n",
              "Solids           2293.0  22074.335334  8668.693908  320.942611  15825.182571   \n",
              "Chloramines      2293.0      7.132987     1.573879    0.530351      6.140033   \n",
              "Sulfate          2293.0    333.393347    36.116271  180.206746    316.552791   \n",
              "Conductivity     2293.0    425.455702    80.266652  201.619737    363.974060   \n",
              "Organic_carbon   2293.0     14.229174     3.341429    2.200000     12.015868   \n",
              "Trihalomethanes  2293.0     66.499518    16.067742    0.738000     56.329076   \n",
              "Turbidity        2293.0      3.967153     0.788480    1.450000      3.440753   \n",
              "Potability       2293.0      0.390318     0.487928    0.000000      0.000000   \n",
              "\n",
              "                          50%           75%           max  \n",
              "ph                   7.080795      7.873272     14.000000  \n",
              "Hardness           196.833001    216.441172    317.338124  \n",
              "Solids           21153.322827  27345.174288  56351.396304  \n",
              "Chloramines          7.135063      8.104498     13.043806  \n",
              "Sulfate            333.775777    349.985243    481.030642  \n",
              "Conductivity       420.828362    480.715208    753.342620  \n",
              "Organic_carbon      14.151538     16.450990     28.300000  \n",
              "Trihalomethanes     66.396293     77.182622    124.000000  \n",
              "Turbidity            3.947138      4.503661      6.739000  \n",
              "Potability           0.000000      1.000000      1.000000  "
            ],
            "text/html": [
              "\n",
              "  <div id=\"df-cefb7faa-aa4c-4ee4-afe6-f88bdf24ee7b\">\n",
              "    <div class=\"colab-df-container\">\n",
              "      <div>\n",
              "<style scoped>\n",
              "    .dataframe tbody tr th:only-of-type {\n",
              "        vertical-align: middle;\n",
              "    }\n",
              "\n",
              "    .dataframe tbody tr th {\n",
              "        vertical-align: top;\n",
              "    }\n",
              "\n",
              "    .dataframe thead th {\n",
              "        text-align: right;\n",
              "    }\n",
              "</style>\n",
              "<table border=\"1\" class=\"dataframe\">\n",
              "  <thead>\n",
              "    <tr style=\"text-align: right;\">\n",
              "      <th></th>\n",
              "      <th>count</th>\n",
              "      <th>mean</th>\n",
              "      <th>std</th>\n",
              "      <th>min</th>\n",
              "      <th>25%</th>\n",
              "      <th>50%</th>\n",
              "      <th>75%</th>\n",
              "      <th>max</th>\n",
              "    </tr>\n",
              "  </thead>\n",
              "  <tbody>\n",
              "    <tr>\n",
              "      <th>ph</th>\n",
              "      <td>2293.0</td>\n",
              "      <td>7.082265</td>\n",
              "      <td>1.486029</td>\n",
              "      <td>0.000000</td>\n",
              "      <td>6.262799</td>\n",
              "      <td>7.080795</td>\n",
              "      <td>7.873272</td>\n",
              "      <td>14.000000</td>\n",
              "    </tr>\n",
              "    <tr>\n",
              "      <th>Hardness</th>\n",
              "      <td>2293.0</td>\n",
              "      <td>196.390335</td>\n",
              "      <td>32.460633</td>\n",
              "      <td>47.432000</td>\n",
              "      <td>176.753500</td>\n",
              "      <td>196.833001</td>\n",
              "      <td>216.441172</td>\n",
              "      <td>317.338124</td>\n",
              "    </tr>\n",
              "    <tr>\n",
              "      <th>Solids</th>\n",
              "      <td>2293.0</td>\n",
              "      <td>22074.335334</td>\n",
              "      <td>8668.693908</td>\n",
              "      <td>320.942611</td>\n",
              "      <td>15825.182571</td>\n",
              "      <td>21153.322827</td>\n",
              "      <td>27345.174288</td>\n",
              "      <td>56351.396304</td>\n",
              "    </tr>\n",
              "    <tr>\n",
              "      <th>Chloramines</th>\n",
              "      <td>2293.0</td>\n",
              "      <td>7.132987</td>\n",
              "      <td>1.573879</td>\n",
              "      <td>0.530351</td>\n",
              "      <td>6.140033</td>\n",
              "      <td>7.135063</td>\n",
              "      <td>8.104498</td>\n",
              "      <td>13.043806</td>\n",
              "    </tr>\n",
              "    <tr>\n",
              "      <th>Sulfate</th>\n",
              "      <td>2293.0</td>\n",
              "      <td>333.393347</td>\n",
              "      <td>36.116271</td>\n",
              "      <td>180.206746</td>\n",
              "      <td>316.552791</td>\n",
              "      <td>333.775777</td>\n",
              "      <td>349.985243</td>\n",
              "      <td>481.030642</td>\n",
              "    </tr>\n",
              "    <tr>\n",
              "      <th>Conductivity</th>\n",
              "      <td>2293.0</td>\n",
              "      <td>425.455702</td>\n",
              "      <td>80.266652</td>\n",
              "      <td>201.619737</td>\n",
              "      <td>363.974060</td>\n",
              "      <td>420.828362</td>\n",
              "      <td>480.715208</td>\n",
              "      <td>753.342620</td>\n",
              "    </tr>\n",
              "    <tr>\n",
              "      <th>Organic_carbon</th>\n",
              "      <td>2293.0</td>\n",
              "      <td>14.229174</td>\n",
              "      <td>3.341429</td>\n",
              "      <td>2.200000</td>\n",
              "      <td>12.015868</td>\n",
              "      <td>14.151538</td>\n",
              "      <td>16.450990</td>\n",
              "      <td>28.300000</td>\n",
              "    </tr>\n",
              "    <tr>\n",
              "      <th>Trihalomethanes</th>\n",
              "      <td>2293.0</td>\n",
              "      <td>66.499518</td>\n",
              "      <td>16.067742</td>\n",
              "      <td>0.738000</td>\n",
              "      <td>56.329076</td>\n",
              "      <td>66.396293</td>\n",
              "      <td>77.182622</td>\n",
              "      <td>124.000000</td>\n",
              "    </tr>\n",
              "    <tr>\n",
              "      <th>Turbidity</th>\n",
              "      <td>2293.0</td>\n",
              "      <td>3.967153</td>\n",
              "      <td>0.788480</td>\n",
              "      <td>1.450000</td>\n",
              "      <td>3.440753</td>\n",
              "      <td>3.947138</td>\n",
              "      <td>4.503661</td>\n",
              "      <td>6.739000</td>\n",
              "    </tr>\n",
              "    <tr>\n",
              "      <th>Potability</th>\n",
              "      <td>2293.0</td>\n",
              "      <td>0.390318</td>\n",
              "      <td>0.487928</td>\n",
              "      <td>0.000000</td>\n",
              "      <td>0.000000</td>\n",
              "      <td>0.000000</td>\n",
              "      <td>1.000000</td>\n",
              "      <td>1.000000</td>\n",
              "    </tr>\n",
              "  </tbody>\n",
              "</table>\n",
              "</div>\n",
              "      <button class=\"colab-df-convert\" onclick=\"convertToInteractive('df-cefb7faa-aa4c-4ee4-afe6-f88bdf24ee7b')\"\n",
              "              title=\"Convert this dataframe to an interactive table.\"\n",
              "              style=\"display:none;\">\n",
              "        \n",
              "  <svg xmlns=\"http://www.w3.org/2000/svg\" height=\"24px\"viewBox=\"0 0 24 24\"\n",
              "       width=\"24px\">\n",
              "    <path d=\"M0 0h24v24H0V0z\" fill=\"none\"/>\n",
              "    <path d=\"M18.56 5.44l.94 2.06.94-2.06 2.06-.94-2.06-.94-.94-2.06-.94 2.06-2.06.94zm-11 1L8.5 8.5l.94-2.06 2.06-.94-2.06-.94L8.5 2.5l-.94 2.06-2.06.94zm10 10l.94 2.06.94-2.06 2.06-.94-2.06-.94-.94-2.06-.94 2.06-2.06.94z\"/><path d=\"M17.41 7.96l-1.37-1.37c-.4-.4-.92-.59-1.43-.59-.52 0-1.04.2-1.43.59L10.3 9.45l-7.72 7.72c-.78.78-.78 2.05 0 2.83L4 21.41c.39.39.9.59 1.41.59.51 0 1.02-.2 1.41-.59l7.78-7.78 2.81-2.81c.8-.78.8-2.07 0-2.86zM5.41 20L4 18.59l7.72-7.72 1.47 1.35L5.41 20z\"/>\n",
              "  </svg>\n",
              "      </button>\n",
              "      \n",
              "  <style>\n",
              "    .colab-df-container {\n",
              "      display:flex;\n",
              "      flex-wrap:wrap;\n",
              "      gap: 12px;\n",
              "    }\n",
              "\n",
              "    .colab-df-convert {\n",
              "      background-color: #E8F0FE;\n",
              "      border: none;\n",
              "      border-radius: 50%;\n",
              "      cursor: pointer;\n",
              "      display: none;\n",
              "      fill: #1967D2;\n",
              "      height: 32px;\n",
              "      padding: 0 0 0 0;\n",
              "      width: 32px;\n",
              "    }\n",
              "\n",
              "    .colab-df-convert:hover {\n",
              "      background-color: #E2EBFA;\n",
              "      box-shadow: 0px 1px 2px rgba(60, 64, 67, 0.3), 0px 1px 3px 1px rgba(60, 64, 67, 0.15);\n",
              "      fill: #174EA6;\n",
              "    }\n",
              "\n",
              "    [theme=dark] .colab-df-convert {\n",
              "      background-color: #3B4455;\n",
              "      fill: #D2E3FC;\n",
              "    }\n",
              "\n",
              "    [theme=dark] .colab-df-convert:hover {\n",
              "      background-color: #434B5C;\n",
              "      box-shadow: 0px 1px 3px 1px rgba(0, 0, 0, 0.15);\n",
              "      filter: drop-shadow(0px 1px 2px rgba(0, 0, 0, 0.3));\n",
              "      fill: #FFFFFF;\n",
              "    }\n",
              "  </style>\n",
              "\n",
              "      <script>\n",
              "        const buttonEl =\n",
              "          document.querySelector('#df-cefb7faa-aa4c-4ee4-afe6-f88bdf24ee7b button.colab-df-convert');\n",
              "        buttonEl.style.display =\n",
              "          google.colab.kernel.accessAllowed ? 'block' : 'none';\n",
              "\n",
              "        async function convertToInteractive(key) {\n",
              "          const element = document.querySelector('#df-cefb7faa-aa4c-4ee4-afe6-f88bdf24ee7b');\n",
              "          const dataTable =\n",
              "            await google.colab.kernel.invokeFunction('convertToInteractive',\n",
              "                                                     [key], {});\n",
              "          if (!dataTable) return;\n",
              "\n",
              "          const docLinkHtml = 'Like what you see? Visit the ' +\n",
              "            '<a target=\"_blank\" href=https://colab.research.google.com/notebooks/data_table.ipynb>data table notebook</a>'\n",
              "            + ' to learn more about interactive tables.';\n",
              "          element.innerHTML = '';\n",
              "          dataTable['output_type'] = 'display_data';\n",
              "          await google.colab.output.renderOutput(dataTable, element);\n",
              "          const docLink = document.createElement('div');\n",
              "          docLink.innerHTML = docLinkHtml;\n",
              "          element.appendChild(docLink);\n",
              "        }\n",
              "      </script>\n",
              "    </div>\n",
              "  </div>\n",
              "  "
            ]
          },
          "metadata": {},
          "execution_count": 7
        }
      ],
      "source": [
        "#discaibe of data (shows a summary of the numerical attributes)\n",
        "from pandas.core import describe\n",
        "train_data.describe().T"
      ]
    },
    {
      "cell_type": "markdown",
      "metadata": {
        "id": "J_s5MrMEVEzs"
      },
      "source": [
        "**Data visualization**"
      ]
    },
    {
      "cell_type": "code",
      "execution_count": null,
      "metadata": {
        "colab": {
          "base_uri": "https://localhost:8080/",
          "height": 929
        },
        "id": "4hWmq0VwUlBu",
        "outputId": "73e95f64-cc71-4c78-e2cb-abe32ac8a4eb"
      },
      "outputs": [
        {
          "output_type": "display_data",
          "data": {
            "text/plain": [
              "<Figure size 1440x1080 with 12 Axes>"
            ],
            "image/png": "[encoded data removed]"
          },
          "metadata": {
            "needs_background": "light"
          }
        }
      ],
      "source": [
        "# histogram for all atrributes \n",
        "train_data.hist(bins=50,figsize=(20,15))\n",
        "plt.suptitle('water perdiction', fontsize=20)\n",
        "plt.show()"
      ]
    },
    {
      "cell_type": "code",
      "execution_count": null,
      "metadata": {
        "colab": {
          "base_uri": "https://localhost:8080/",
          "height": 864
        },
        "id": "ymWi-CRVCEZT",
        "outputId": "55a901f1-5551-440a-c100-498b94311f2b"
      },
      "outputs": [
        {
          "output_type": "display_data",
          "data": {
            "text/plain": [
              "<Figure size 1080x1080 with 1 Axes>"
            ],
            "image/png": "[encoded data removed]"
          },
          "metadata": {
            "needs_background": "light"
          }
        }
      ],
      "source": [
        "# box plot of all numeric attributes\n",
        "train_data.boxplot(figsize=(15,15)) \n",
        "plt.show()"
      ]
    },
    {
      "cell_type": "code",
      "execution_count": null,
      "metadata": {
        "colab": {
          "base_uri": "https://localhost:8080/"
        },
        "id": "tPqDdbbVU63V",
        "outputId": "f8ff83dd-ffd4-42a5-bd91-ca5c2363313f"
      },
      "outputs": [
        {
          "output_type": "execute_result",
          "data": {
            "text/plain": [
              "0    1398\n",
              "1     895\n",
              "Name: Potability, dtype: int64"
            ]
          },
          "metadata": {},
          "execution_count": 10
        }
      ],
      "source": [
        "# count how many 0 and 1\n",
        "Potability_values= train_data[\"Potability\"].value_counts()\n",
        "Potability_values\n",
        "# data unballanced so we need to make it ballance "
      ]
    },
    {
      "cell_type": "code",
      "execution_count": null,
      "metadata": {
        "colab": {
          "base_uri": "https://localhost:8080/",
          "height": 262
        },
        "id": "ivDh9J8UWC04",
        "outputId": "2cbcbc05-c6e6-4744-f5bc-aa46357827cd"
      },
      "outputs": [
        {
          "output_type": "display_data",
          "data": {
            "text/plain": [
              "<Figure size 432x288 with 1 Axes>"
            ],
            "image/png": "[encoded data removed]"
          },
          "metadata": {
            "needs_background": "light"
          }
        }
      ],
      "source": [
        "# Showing the Potability information as a bar graph\n",
        "train_data[\"Potability\"].value_counts().plot(kind=\"bar\")\n",
        "plt.show()"
      ]
    },
    {
      "cell_type": "code",
      "execution_count": null,
      "metadata": {
        "colab": {
          "base_uri": "https://localhost:8080/",
          "height": 363
        },
        "id": "Nogj_Q6pWSkL",
        "outputId": "ed95c465-bf4b-4c8a-f5a2-f1c3f4ccb415"
      },
      "outputs": [
        {
          "output_type": "execute_result",
          "data": {
            "text/plain": [
              "                       ph  Hardness    Solids  Chloramines   Sulfate  \\\n",
              "ph               1.000000  0.085174 -0.086437    -0.036320  0.030671   \n",
              "Hardness         0.085174  1.000000 -0.071467    -0.020923 -0.078125   \n",
              "Solids          -0.086437 -0.071467  1.000000    -0.069332 -0.141201   \n",
              "Chloramines     -0.036320 -0.020923 -0.069332     1.000000  0.031436   \n",
              "Sulfate          0.030671 -0.078125 -0.141201     0.031436  1.000000   \n",
              "Conductivity     0.029061 -0.029706  0.016573    -0.008915 -0.010235   \n",
              "Organic_carbon   0.021283 -0.015270  0.013326    -0.025615  0.019500   \n",
              "Trihalomethanes  0.002785 -0.012477 -0.001939     0.017490 -0.041184   \n",
              "Turbidity       -0.037824 -0.010564  0.023191    -0.012488 -0.009919   \n",
              "Potability      -0.007885 -0.022519  0.051823     0.014388 -0.019802   \n",
              "\n",
              "                 Conductivity  Organic_carbon  Trihalomethanes  Turbidity  \\\n",
              "ph                   0.029061        0.021283         0.002785  -0.037824   \n",
              "Hardness            -0.029706       -0.015270        -0.012477  -0.010564   \n",
              "Solids               0.016573        0.013326        -0.001939   0.023191   \n",
              "Chloramines         -0.008915       -0.025615         0.017490  -0.012488   \n",
              "Sulfate             -0.010235        0.019500        -0.041184  -0.009919   \n",
              "Conductivity         1.000000        0.019469        -0.013827  -0.001817   \n",
              "Organic_carbon       0.019469        1.000000        -0.028303  -0.026839   \n",
              "Trihalomethanes     -0.013827       -0.028303         1.000000  -0.024693   \n",
              "Turbidity           -0.001817       -0.026839        -0.024693   1.000000   \n",
              "Potability          -0.018621       -0.008574         0.002145  -0.002455   \n",
              "\n",
              "                 Potability  \n",
              "ph                -0.007885  \n",
              "Hardness          -0.022519  \n",
              "Solids             0.051823  \n",
              "Chloramines        0.014388  \n",
              "Sulfate           -0.019802  \n",
              "Conductivity      -0.018621  \n",
              "Organic_carbon    -0.008574  \n",
              "Trihalomethanes    0.002145  \n",
              "Turbidity         -0.002455  \n",
              "Potability         1.000000  "
            ],
            "text/html": [
              "\n",
              "  <div id=\"df-835b8016-779f-4430-8d6b-34fe7951b3ee\">\n",
              "    <div class=\"colab-df-container\">\n",
              "      <div>\n",
              "<style scoped>\n",
              "    .dataframe tbody tr th:only-of-type {\n",
              "        vertical-align: middle;\n",
              "    }\n",
              "\n",
              "    .dataframe tbody tr th {\n",
              "        vertical-align: top;\n",
              "    }\n",
              "\n",
              "    .dataframe thead th {\n",
              "        text-align: right;\n",
              "    }\n",
              "</style>\n",
              "<table border=\"1\" class=\"dataframe\">\n",
              "  <thead>\n",
              "    <tr style=\"text-align: right;\">\n",
              "      <th></th>\n",
              "      <th>ph</th>\n",
              "      <th>Hardness</th>\n",
              "      <th>Solids</th>\n",
              "      <th>Chloramines</th>\n",
              "      <th>Sulfate</th>\n",
              "      <th>Conductivity</th>\n",
              "      <th>Organic_carbon</th>\n",
              "      <th>Trihalomethanes</th>\n",
              "      <th>Turbidity</th>\n",
              "      <th>Potability</th>\n",
              "    </tr>\n",
              "  </thead>\n",
              "  <tbody>\n",
              "    <tr>\n",
              "      <th>ph</th>\n",
              "      <td>1.000000</td>\n",
              "      <td>0.085174</td>\n",
              "      <td>-0.086437</td>\n",
              "      <td>-0.036320</td>\n",
              "      <td>0.030671</td>\n",
              "      <td>0.029061</td>\n",
              "      <td>0.021283</td>\n",
              "      <td>0.002785</td>\n",
              "      <td>-0.037824</td>\n",
              "      <td>-0.007885</td>\n",
              "    </tr>\n",
              "    <tr>\n",
              "      <th>Hardness</th>\n",
              "      <td>0.085174</td>\n",
              "      <td>1.000000</td>\n",
              "      <td>-0.071467</td>\n",
              "      <td>-0.020923</td>\n",
              "      <td>-0.078125</td>\n",
              "      <td>-0.029706</td>\n",
              "      <td>-0.015270</td>\n",
              "      <td>-0.012477</td>\n",
              "      <td>-0.010564</td>\n",
              "      <td>-0.022519</td>\n",
              "    </tr>\n",
              "    <tr>\n",
              "      <th>Solids</th>\n",
              "      <td>-0.086437</td>\n",
              "      <td>-0.071467</td>\n",
              "      <td>1.000000</td>\n",
              "      <td>-0.069332</td>\n",
              "      <td>-0.141201</td>\n",
              "      <td>0.016573</td>\n",
              "      <td>0.013326</td>\n",
              "      <td>-0.001939</td>\n",
              "      <td>0.023191</td>\n",
              "      <td>0.051823</td>\n",
              "    </tr>\n",
              "    <tr>\n",
              "      <th>Chloramines</th>\n",
              "      <td>-0.036320</td>\n",
              "      <td>-0.020923</td>\n",
              "      <td>-0.069332</td>\n",
              "      <td>1.000000</td>\n",
              "      <td>0.031436</td>\n",
              "      <td>-0.008915</td>\n",
              "      <td>-0.025615</td>\n",
              "      <td>0.017490</td>\n",
              "      <td>-0.012488</td>\n",
              "      <td>0.014388</td>\n",
              "    </tr>\n",
              "    <tr>\n",
              "      <th>Sulfate</th>\n",
              "      <td>0.030671</td>\n",
              "      <td>-0.078125</td>\n",
              "      <td>-0.141201</td>\n",
              "      <td>0.031436</td>\n",
              "      <td>1.000000</td>\n",
              "      <td>-0.010235</td>\n",
              "      <td>0.019500</td>\n",
              "      <td>-0.041184</td>\n",
              "      <td>-0.009919</td>\n",
              "      <td>-0.019802</td>\n",
              "    </tr>\n",
              "    <tr>\n",
              "      <th>Conductivity</th>\n",
              "      <td>0.029061</td>\n",
              "      <td>-0.029706</td>\n",
              "      <td>0.016573</td>\n",
              "      <td>-0.008915</td>\n",
              "      <td>-0.010235</td>\n",
              "      <td>1.000000</td>\n",
              "      <td>0.019469</td>\n",
              "      <td>-0.013827</td>\n",
              "      <td>-0.001817</td>\n",
              "      <td>-0.018621</td>\n",
              "    </tr>\n",
              "    <tr>\n",
              "      <th>Organic_carbon</th>\n",
              "      <td>0.021283</td>\n",
              "      <td>-0.015270</td>\n",
              "      <td>0.013326</td>\n",
              "      <td>-0.025615</td>\n",
              "      <td>0.019500</td>\n",
              "      <td>0.019469</td>\n",
              "      <td>1.000000</td>\n",
              "      <td>-0.028303</td>\n",
              "      <td>-0.026839</td>\n",
              "      <td>-0.008574</td>\n",
              "    </tr>\n",
              "    <tr>\n",
              "      <th>Trihalomethanes</th>\n",
              "      <td>0.002785</td>\n",
              "      <td>-0.012477</td>\n",
              "      <td>-0.001939</td>\n",
              "      <td>0.017490</td>\n",
              "      <td>-0.041184</td>\n",
              "      <td>-0.013827</td>\n",
              "      <td>-0.028303</td>\n",
              "      <td>1.000000</td>\n",
              "      <td>-0.024693</td>\n",
              "      <td>0.002145</td>\n",
              "    </tr>\n",
              "    <tr>\n",
              "      <th>Turbidity</th>\n",
              "      <td>-0.037824</td>\n",
              "      <td>-0.010564</td>\n",
              "      <td>0.023191</td>\n",
              "      <td>-0.012488</td>\n",
              "      <td>-0.009919</td>\n",
              "      <td>-0.001817</td>\n",
              "      <td>-0.026839</td>\n",
              "      <td>-0.024693</td>\n",
              "      <td>1.000000</td>\n",
              "      <td>-0.002455</td>\n",
              "    </tr>\n",
              "    <tr>\n",
              "      <th>Potability</th>\n",
              "      <td>-0.007885</td>\n",
              "      <td>-0.022519</td>\n",
              "      <td>0.051823</td>\n",
              "      <td>0.014388</td>\n",
              "      <td>-0.019802</td>\n",
              "      <td>-0.018621</td>\n",
              "      <td>-0.008574</td>\n",
              "      <td>0.002145</td>\n",
              "      <td>-0.002455</td>\n",
              "      <td>1.000000</td>\n",
              "    </tr>\n",
              "  </tbody>\n",
              "</table>\n",
              "</div>\n",
              "      <button class=\"colab-df-convert\" onclick=\"convertToInteractive('df-835b8016-779f-4430-8d6b-34fe7951b3ee')\"\n",
              "              title=\"Convert this dataframe to an interactive table.\"\n",
              "              style=\"display:none;\">\n",
              "        \n",
              "  <svg xmlns=\"http://www.w3.org/2000/svg\" height=\"24px\"viewBox=\"0 0 24 24\"\n",
              "       width=\"24px\">\n",
              "    <path d=\"M0 0h24v24H0V0z\" fill=\"none\"/>\n",
              "    <path d=\"M18.56 5.44l.94 2.06.94-2.06 2.06-.94-2.06-.94-.94-2.06-.94 2.06-2.06.94zm-11 1L8.5 8.5l.94-2.06 2.06-.94-2.06-.94L8.5 2.5l-.94 2.06-2.06.94zm10 10l.94 2.06.94-2.06 2.06-.94-2.06-.94-.94-2.06-.94 2.06-2.06.94z\"/><path d=\"M17.41 7.96l-1.37-1.37c-.4-.4-.92-.59-1.43-.59-.52 0-1.04.2-1.43.59L10.3 9.45l-7.72 7.72c-.78.78-.78 2.05 0 2.83L4 21.41c.39.39.9.59 1.41.59.51 0 1.02-.2 1.41-.59l7.78-7.78 2.81-2.81c.8-.78.8-2.07 0-2.86zM5.41 20L4 18.59l7.72-7.72 1.47 1.35L5.41 20z\"/>\n",
              "  </svg>\n",
              "      </button>\n",
              "      \n",
              "  <style>\n",
              "    .colab-df-container {\n",
              "      display:flex;\n",
              "      flex-wrap:wrap;\n",
              "      gap: 12px;\n",
              "    }\n",
              "\n",
              "    .colab-df-convert {\n",
              "      background-color: #E8F0FE;\n",
              "      border: none;\n",
              "      border-radius: 50%;\n",
              "      cursor: pointer;\n",
              "      display: none;\n",
              "      fill: #1967D2;\n",
              "      height: 32px;\n",
              "      padding: 0 0 0 0;\n",
              "      width: 32px;\n",
              "    }\n",
              "\n",
              "    .colab-df-convert:hover {\n",
              "      background-color: #E2EBFA;\n",
              "      box-shadow: 0px 1px 2px rgba(60, 64, 67, 0.3), 0px 1px 3px 1px rgba(60, 64, 67, 0.15);\n",
              "      fill: #174EA6;\n",
              "    }\n",
              "\n",
              "    [theme=dark] .colab-df-convert {\n",
              "      background-color: #3B4455;\n",
              "      fill: #D2E3FC;\n",
              "    }\n",
              "\n",
              "    [theme=dark] .colab-df-convert:hover {\n",
              "      background-color: #434B5C;\n",
              "      box-shadow: 0px 1px 3px 1px rgba(0, 0, 0, 0.15);\n",
              "      filter: drop-shadow(0px 1px 2px rgba(0, 0, 0, 0.3));\n",
              "      fill: #FFFFFF;\n",
              "    }\n",
              "  </style>\n",
              "\n",
              "      <script>\n",
              "        const buttonEl =\n",
              "          document.querySelector('#df-835b8016-779f-4430-8d6b-34fe7951b3ee button.colab-df-convert');\n",
              "        buttonEl.style.display =\n",
              "          google.colab.kernel.accessAllowed ? 'block' : 'none';\n",
              "\n",
              "        async function convertToInteractive(key) {\n",
              "          const element = document.querySelector('#df-835b8016-779f-4430-8d6b-34fe7951b3ee');\n",
              "          const dataTable =\n",
              "            await google.colab.kernel.invokeFunction('convertToInteractive',\n",
              "                                                     [key], {});\n",
              "          if (!dataTable) return;\n",
              "\n",
              "          const docLinkHtml = 'Like what you see? Visit the ' +\n",
              "            '<a target=\"_blank\" href=https://colab.research.google.com/notebooks/data_table.ipynb>data table notebook</a>'\n",
              "            + ' to learn more about interactive tables.';\n",
              "          element.innerHTML = '';\n",
              "          dataTable['output_type'] = 'display_data';\n",
              "          await google.colab.output.renderOutput(dataTable, element);\n",
              "          const docLink = document.createElement('div');\n",
              "          docLink.innerHTML = docLinkHtml;\n",
              "          element.appendChild(docLink);\n",
              "        }\n",
              "      </script>\n",
              "    </div>\n",
              "  </div>\n",
              "  "
            ]
          },
          "metadata": {},
          "execution_count": 12
        }
      ],
      "source": [
        "# calculate the correlations between attributes\n",
        "corr_matrix=train_data.corr()\n",
        "corr_matrix"
      ]
    },
    {
      "cell_type": "code",
      "execution_count": null,
      "metadata": {
        "colab": {
          "base_uri": "https://localhost:8080/",
          "height": 685
        },
        "id": "krl69vTcW1Zs",
        "outputId": "f317f66d-20b5-4487-fc01-a335bc3dd2e6"
      },
      "outputs": [
        {
          "output_type": "execute_result",
          "data": {
            "text/plain": [
              "<matplotlib.axes._subplots.AxesSubplot at 0x7f8b23cd2a30>"
            ]
          },
          "metadata": {},
          "execution_count": 13
        },
        {
          "output_type": "display_data",
          "data": {
            "text/plain": [
              "<Figure size 1080x720 with 2 Axes>"
            ],
            "image/png": "[encoded data removed]"
          },
          "metadata": {
            "needs_background": "light"
          }
        }
      ],
      "source": [
        "# figure to show the correlation between the attributes\n",
        "plt.figure(figsize=(15, 10))\n",
        "sns.heatmap(corr_matrix,annot=True)"
      ]
    },
    {
      "cell_type": "code",
      "source": [
        "#correlation between \"ph\" and \"Conductivity\" \n",
        "plt.scatter(train_data['ph'], train_data['Conductivity'])\n",
        "plt.show"
      ],
      "metadata": {
        "colab": {
          "base_uri": "https://localhost:8080/",
          "height": 282
        },
        "id": "QinZ520lHo8x",
        "outputId": "e6691b1c-4c03-4324-ea3c-06c91d2af56d"
      },
      "execution_count": null,
      "outputs": [
        {
          "output_type": "execute_result",
          "data": {
            "text/plain": [
              "<function matplotlib.pyplot.show(*args, **kw)>"
            ]
          },
          "metadata": {},
          "execution_count": 14
        },
        {
          "output_type": "display_data",
          "data": {
            "text/plain": [
              "<Figure size 432x288 with 1 Axes>"
            ],
            "image/png": "[encoded data removed]"
          },
          "metadata": {
            "needs_background": "light"
          }
        }
      ]
    },
    {
      "cell_type": "code",
      "source": [
        "#correlation between “Sulfate” and “Turbidity” \n",
        "plt.scatter(train_data['Sulfate'], train_data['Turbidity'])\n",
        "plt.show"
      ],
      "metadata": {
        "colab": {
          "base_uri": "https://localhost:8080/",
          "height": 286
        },
        "id": "JKPfd23nIejw",
        "outputId": "fdff5038-dd00-4d95-cfd5-b8a712667376"
      },
      "execution_count": null,
      "outputs": [
        {
          "output_type": "execute_result",
          "data": {
            "text/plain": [
              "<function matplotlib.pyplot.show(*args, **kw)>"
            ]
          },
          "metadata": {},
          "execution_count": 15
        },
        {
          "output_type": "display_data",
          "data": {
            "text/plain": [
              "<Figure size 432x288 with 1 Axes>"
            ],
            "image/png": "[encoded data removed]"
          },
          "metadata": {
            "needs_background": "light"
          }
        }
      ]
    },
    {
      "cell_type": "markdown",
      "metadata": {
        "id": "UII6p3g3aeT6"
      },
      "source": [
        "# **Data preproessing:**"
      ]
    },
    {
      "cell_type": "markdown",
      "metadata": {
        "id": "CAw-ibrL7l6K"
      },
      "source": [
        "**1. check of duplicate data:**"
      ]
    },
    {
      "cell_type": "code",
      "execution_count": null,
      "metadata": {
        "colab": {
          "base_uri": "https://localhost:8080/",
          "height": 49
        },
        "id": "G3z0SozdczKM",
        "outputId": "8925521e-0767-4310-d4b6-0bd4fbf70d58"
      },
      "outputs": [
        {
          "output_type": "execute_result",
          "data": {
            "text/plain": [
              "Empty DataFrame\n",
              "Columns: [ph, Hardness, Solids, Chloramines, Sulfate, Conductivity, Organic_carbon, Trihalomethanes, Turbidity, Potability]\n",
              "Index: []"
            ],
            "text/html": [
              "\n",
              "  <div id=\"df-fa669549-3acc-4c35-818a-a7bd032f5d0e\">\n",
              "    <div class=\"colab-df-container\">\n",
              "      <div>\n",
              "<style scoped>\n",
              "    .dataframe tbody tr th:only-of-type {\n",
              "        vertical-align: middle;\n",
              "    }\n",
              "\n",
              "    .dataframe tbody tr th {\n",
              "        vertical-align: top;\n",
              "    }\n",
              "\n",
              "    .dataframe thead th {\n",
              "        text-align: right;\n",
              "    }\n",
              "</style>\n",
              "<table border=\"1\" class=\"dataframe\">\n",
              "  <thead>\n",
              "    <tr style=\"text-align: right;\">\n",
              "      <th></th>\n",
              "      <th>ph</th>\n",
              "      <th>Hardness</th>\n",
              "      <th>Solids</th>\n",
              "      <th>Chloramines</th>\n",
              "      <th>Sulfate</th>\n",
              "      <th>Conductivity</th>\n",
              "      <th>Organic_carbon</th>\n",
              "      <th>Trihalomethanes</th>\n",
              "      <th>Turbidity</th>\n",
              "      <th>Potability</th>\n",
              "    </tr>\n",
              "  </thead>\n",
              "  <tbody>\n",
              "  </tbody>\n",
              "</table>\n",
              "</div>\n",
              "      <button class=\"colab-df-convert\" onclick=\"convertToInteractive('df-fa669549-3acc-4c35-818a-a7bd032f5d0e')\"\n",
              "              title=\"Convert this dataframe to an interactive table.\"\n",
              "              style=\"display:none;\">\n",
              "        \n",
              "  <svg xmlns=\"http://www.w3.org/2000/svg\" height=\"24px\"viewBox=\"0 0 24 24\"\n",
              "       width=\"24px\">\n",
              "    <path d=\"M0 0h24v24H0V0z\" fill=\"none\"/>\n",
              "    <path d=\"M18.56 5.44l.94 2.06.94-2.06 2.06-.94-2.06-.94-.94-2.06-.94 2.06-2.06.94zm-11 1L8.5 8.5l.94-2.06 2.06-.94-2.06-.94L8.5 2.5l-.94 2.06-2.06.94zm10 10l.94 2.06.94-2.06 2.06-.94-2.06-.94-.94-2.06-.94 2.06-2.06.94z\"/><path d=\"M17.41 7.96l-1.37-1.37c-.4-.4-.92-.59-1.43-.59-.52 0-1.04.2-1.43.59L10.3 9.45l-7.72 7.72c-.78.78-.78 2.05 0 2.83L4 21.41c.39.39.9.59 1.41.59.51 0 1.02-.2 1.41-.59l7.78-7.78 2.81-2.81c.8-.78.8-2.07 0-2.86zM5.41 20L4 18.59l7.72-7.72 1.47 1.35L5.41 20z\"/>\n",
              "  </svg>\n",
              "      </button>\n",
              "      \n",
              "  <style>\n",
              "    .colab-df-container {\n",
              "      display:flex;\n",
              "      flex-wrap:wrap;\n",
              "      gap: 12px;\n",
              "    }\n",
              "\n",
              "    .colab-df-convert {\n",
              "      background-color: #E8F0FE;\n",
              "      border: none;\n",
              "      border-radius: 50%;\n",
              "      cursor: pointer;\n",
              "      display: none;\n",
              "      fill: #1967D2;\n",
              "      height: 32px;\n",
              "      padding: 0 0 0 0;\n",
              "      width: 32px;\n",
              "    }\n",
              "\n",
              "    .colab-df-convert:hover {\n",
              "      background-color: #E2EBFA;\n",
              "      box-shadow: 0px 1px 2px rgba(60, 64, 67, 0.3), 0px 1px 3px 1px rgba(60, 64, 67, 0.15);\n",
              "      fill: #174EA6;\n",
              "    }\n",
              "\n",
              "    [theme=dark] .colab-df-convert {\n",
              "      background-color: #3B4455;\n",
              "      fill: #D2E3FC;\n",
              "    }\n",
              "\n",
              "    [theme=dark] .colab-df-convert:hover {\n",
              "      background-color: #434B5C;\n",
              "      box-shadow: 0px 1px 3px 1px rgba(0, 0, 0, 0.15);\n",
              "      filter: drop-shadow(0px 1px 2px rgba(0, 0, 0, 0.3));\n",
              "      fill: #FFFFFF;\n",
              "    }\n",
              "  </style>\n",
              "\n",
              "      <script>\n",
              "        const buttonEl =\n",
              "          document.querySelector('#df-fa669549-3acc-4c35-818a-a7bd032f5d0e button.colab-df-convert');\n",
              "        buttonEl.style.display =\n",
              "          google.colab.kernel.accessAllowed ? 'block' : 'none';\n",
              "\n",
              "        async function convertToInteractive(key) {\n",
              "          const element = document.querySelector('#df-fa669549-3acc-4c35-818a-a7bd032f5d0e');\n",
              "          const dataTable =\n",
              "            await google.colab.kernel.invokeFunction('convertToInteractive',\n",
              "                                                     [key], {});\n",
              "          if (!dataTable) return;\n",
              "\n",
              "          const docLinkHtml = 'Like what you see? Visit the ' +\n",
              "            '<a target=\"_blank\" href=https://colab.research.google.com/notebooks/data_table.ipynb>data table notebook</a>'\n",
              "            + ' to learn more about interactive tables.';\n",
              "          element.innerHTML = '';\n",
              "          dataTable['output_type'] = 'display_data';\n",
              "          await google.colab.output.renderOutput(dataTable, element);\n",
              "          const docLink = document.createElement('div');\n",
              "          docLink.innerHTML = docLinkHtml;\n",
              "          element.appendChild(docLink);\n",
              "        }\n",
              "      </script>\n",
              "    </div>\n",
              "  </div>\n",
              "  "
            ]
          },
          "metadata": {},
          "execution_count": 16
        }
      ],
      "source": [
        "# check if there is duplicate data\n",
        "dup_rows = train_data[train_data.duplicated(subset=None, keep='first')]\n",
        "# displaying data\n",
        "dup_rows"
      ]
    },
    {
      "cell_type": "markdown",
      "source": [
        "there is not duplaicate data"
      ],
      "metadata": {
        "id": "DCfKQmqLT8eK"
      }
    },
    {
      "cell_type": "markdown",
      "metadata": {
        "id": "xa6Y4OyY7qrz"
      },
      "source": [
        "**2. check of missing values:**"
      ]
    },
    {
      "cell_type": "code",
      "execution_count": null,
      "metadata": {
        "colab": {
          "base_uri": "https://localhost:8080/"
        },
        "id": "PzF5pW8ghcsP",
        "outputId": "1db1de63-8a03-4f36-da5e-5fb760d90f8d"
      },
      "outputs": [
        {
          "output_type": "execute_result",
          "data": {
            "text/plain": [
              "ph                 0\n",
              "Hardness           0\n",
              "Solids             0\n",
              "Chloramines        0\n",
              "Sulfate            0\n",
              "Conductivity       0\n",
              "Organic_carbon     0\n",
              "Trihalomethanes    0\n",
              "Turbidity          0\n",
              "Potability         0\n",
              "dtype: int64"
            ]
          },
          "metadata": {},
          "execution_count": 17
        }
      ],
      "source": [
        "#Check if the data has missing values\n",
        "train_data.isnull().sum(0)\n"
      ]
    },
    {
      "cell_type": "markdown",
      "source": [
        "there is not missing value"
      ],
      "metadata": {
        "id": "uDYUxmn8T-bX"
      }
    },
    {
      "cell_type": "markdown",
      "metadata": {
        "id": "ViKlrBOpVdFl"
      },
      "source": [
        "**Train\\test split**"
      ]
    },
    {
      "cell_type": "code",
      "execution_count": null,
      "metadata": {
        "colab": {
          "base_uri": "https://localhost:8080/"
        },
        "id": "8nSdckYs0cKs",
        "outputId": "749f8120-c659-406f-bce1-dd2a5112da6d"
      },
      "outputs": [
        {
          "output_type": "execute_result",
          "data": {
            "text/plain": [
              "0       0\n",
              "1       0\n",
              "2       1\n",
              "3       1\n",
              "4       0\n",
              "       ..\n",
              "2288    0\n",
              "2289    0\n",
              "2290    0\n",
              "2291    0\n",
              "2292    1\n",
              "Name: Potability, Length: 2293, dtype: int64"
            ]
          },
          "metadata": {},
          "execution_count": 18
        }
      ],
      "source": [
        "TargetClass = train_data[\"Potability\"]\n",
        "TargetClass"
      ]
    },
    {
      "cell_type": "code",
      "execution_count": null,
      "metadata": {
        "colab": {
          "base_uri": "https://localhost:8080/",
          "height": 423
        },
        "id": "MPR7JBdg6F1U",
        "outputId": "d1a59e37-e73b-4011-a7b5-9132ad857275"
      },
      "outputs": [
        {
          "output_type": "execute_result",
          "data": {
            "text/plain": [
              "             ph    Hardness        Solids  Chloramines     Sulfate  \\\n",
              "0      7.080795  219.674262  22210.613083     5.875041  333.775777   \n",
              "1      6.783888  193.653581  13677.106441     5.171454  323.728663   \n",
              "2      6.010618  184.558582  15940.573271     8.165222  421.486089   \n",
              "3      8.097454  218.992436  18112.284447     6.196947  333.775777   \n",
              "4      8.072612  210.269780  16843.363927     8.793459  359.516169   \n",
              "...         ...         ...           ...          ...         ...   \n",
              "2288   8.124208  207.509515  26489.114701     8.540837  318.059624   \n",
              "2289  10.391942  262.741770  39116.682706     3.205786  285.728420   \n",
              "2290   7.790875  196.478712  24061.349596     6.785685  350.117254   \n",
              "2291   6.139743  168.444214  23894.136010     9.494582  318.026087   \n",
              "2292   7.080795  143.300200  16263.167465     6.229737  333.775777   \n",
              "\n",
              "      Conductivity  Organic_carbon  Trihalomethanes  Turbidity  \n",
              "0       398.517703       11.502316       112.412210   2.994259  \n",
              "1       477.854687       15.056064        66.396293   3.250022  \n",
              "2       314.529813       20.314617        83.707938   4.867287  \n",
              "3       376.569803       17.746264        59.909941   4.279082  \n",
              "4       559.167574       17.263576        68.738989   5.082206  \n",
              "...            ...             ...              ...        ...  \n",
              "2288    431.625677       10.075598        63.984225   4.724457  \n",
              "2289    473.313969       13.300688        65.318816   5.771715  \n",
              "2290    471.518536       15.343316        44.544627   3.076214  \n",
              "2291    494.129125       19.116022        60.264767   3.841222  \n",
              "2292    503.664085       19.585497        66.396293   3.451740  \n",
              "\n",
              "[2293 rows x 9 columns]"
            ],
            "text/html": [
              "\n",
              "  <div id=\"df-9e2cb75f-68dd-4834-af35-a0a5cc46512b\">\n",
              "    <div class=\"colab-df-container\">\n",
              "      <div>\n",
              "<style scoped>\n",
              "    .dataframe tbody tr th:only-of-type {\n",
              "        vertical-align: middle;\n",
              "    }\n",
              "\n",
              "    .dataframe tbody tr th {\n",
              "        vertical-align: top;\n",
              "    }\n",
              "\n",
              "    .dataframe thead th {\n",
              "        text-align: right;\n",
              "    }\n",
              "</style>\n",
              "<table border=\"1\" class=\"dataframe\">\n",
              "  <thead>\n",
              "    <tr style=\"text-align: right;\">\n",
              "      <th></th>\n",
              "      <th>ph</th>\n",
              "      <th>Hardness</th>\n",
              "      <th>Solids</th>\n",
              "      <th>Chloramines</th>\n",
              "      <th>Sulfate</th>\n",
              "      <th>Conductivity</th>\n",
              "      <th>Organic_carbon</th>\n",
              "      <th>Trihalomethanes</th>\n",
              "      <th>Turbidity</th>\n",
              "    </tr>\n",
              "  </thead>\n",
              "  <tbody>\n",
              "    <tr>\n",
              "      <th>0</th>\n",
              "      <td>7.080795</td>\n",
              "      <td>219.674262</td>\n",
              "      <td>22210.613083</td>\n",
              "      <td>5.875041</td>\n",
              "      <td>333.775777</td>\n",
              "      <td>398.517703</td>\n",
              "      <td>11.502316</td>\n",
              "      <td>112.412210</td>\n",
              "      <td>2.994259</td>\n",
              "    </tr>\n",
              "    <tr>\n",
              "      <th>1</th>\n",
              "      <td>6.783888</td>\n",
              "      <td>193.653581</td>\n",
              "      <td>13677.106441</td>\n",
              "      <td>5.171454</td>\n",
              "      <td>323.728663</td>\n",
              "      <td>477.854687</td>\n",
              "      <td>15.056064</td>\n",
              "      <td>66.396293</td>\n",
              "      <td>3.250022</td>\n",
              "    </tr>\n",
              "    <tr>\n",
              "      <th>2</th>\n",
              "      <td>6.010618</td>\n",
              "      <td>184.558582</td>\n",
              "      <td>15940.573271</td>\n",
              "      <td>8.165222</td>\n",
              "      <td>421.486089</td>\n",
              "      <td>314.529813</td>\n",
              "      <td>20.314617</td>\n",
              "      <td>83.707938</td>\n",
              "      <td>4.867287</td>\n",
              "    </tr>\n",
              "    <tr>\n",
              "      <th>3</th>\n",
              "      <td>8.097454</td>\n",
              "      <td>218.992436</td>\n",
              "      <td>18112.284447</td>\n",
              "      <td>6.196947</td>\n",
              "      <td>333.775777</td>\n",
              "      <td>376.569803</td>\n",
              "      <td>17.746264</td>\n",
              "      <td>59.909941</td>\n",
              "      <td>4.279082</td>\n",
              "    </tr>\n",
              "    <tr>\n",
              "      <th>4</th>\n",
              "      <td>8.072612</td>\n",
              "      <td>210.269780</td>\n",
              "      <td>16843.363927</td>\n",
              "      <td>8.793459</td>\n",
              "      <td>359.516169</td>\n",
              "      <td>559.167574</td>\n",
              "      <td>17.263576</td>\n",
              "      <td>68.738989</td>\n",
              "      <td>5.082206</td>\n",
              "    </tr>\n",
              "    <tr>\n",
              "      <th>...</th>\n",
              "      <td>...</td>\n",
              "      <td>...</td>\n",
              "      <td>...</td>\n",
              "      <td>...</td>\n",
              "      <td>...</td>\n",
              "      <td>...</td>\n",
              "      <td>...</td>\n",
              "      <td>...</td>\n",
              "      <td>...</td>\n",
              "    </tr>\n",
              "    <tr>\n",
              "      <th>2288</th>\n",
              "      <td>8.124208</td>\n",
              "      <td>207.509515</td>\n",
              "      <td>26489.114701</td>\n",
              "      <td>8.540837</td>\n",
              "      <td>318.059624</td>\n",
              "      <td>431.625677</td>\n",
              "      <td>10.075598</td>\n",
              "      <td>63.984225</td>\n",
              "      <td>4.724457</td>\n",
              "    </tr>\n",
              "    <tr>\n",
              "      <th>2289</th>\n",
              "      <td>10.391942</td>\n",
              "      <td>262.741770</td>\n",
              "      <td>39116.682706</td>\n",
              "      <td>3.205786</td>\n",
              "      <td>285.728420</td>\n",
              "      <td>473.313969</td>\n",
              "      <td>13.300688</td>\n",
              "      <td>65.318816</td>\n",
              "      <td>5.771715</td>\n",
              "    </tr>\n",
              "    <tr>\n",
              "      <th>2290</th>\n",
              "      <td>7.790875</td>\n",
              "      <td>196.478712</td>\n",
              "      <td>24061.349596</td>\n",
              "      <td>6.785685</td>\n",
              "      <td>350.117254</td>\n",
              "      <td>471.518536</td>\n",
              "      <td>15.343316</td>\n",
              "      <td>44.544627</td>\n",
              "      <td>3.076214</td>\n",
              "    </tr>\n",
              "    <tr>\n",
              "      <th>2291</th>\n",
              "      <td>6.139743</td>\n",
              "      <td>168.444214</td>\n",
              "      <td>23894.136010</td>\n",
              "      <td>9.494582</td>\n",
              "      <td>318.026087</td>\n",
              "      <td>494.129125</td>\n",
              "      <td>19.116022</td>\n",
              "      <td>60.264767</td>\n",
              "      <td>3.841222</td>\n",
              "    </tr>\n",
              "    <tr>\n",
              "      <th>2292</th>\n",
              "      <td>7.080795</td>\n",
              "      <td>143.300200</td>\n",
              "      <td>16263.167465</td>\n",
              "      <td>6.229737</td>\n",
              "      <td>333.775777</td>\n",
              "      <td>503.664085</td>\n",
              "      <td>19.585497</td>\n",
              "      <td>66.396293</td>\n",
              "      <td>3.451740</td>\n",
              "    </tr>\n",
              "  </tbody>\n",
              "</table>\n",
              "<p>2293 rows × 9 columns</p>\n",
              "</div>\n",
              "      <button class=\"colab-df-convert\" onclick=\"convertToInteractive('df-9e2cb75f-68dd-4834-af35-a0a5cc46512b')\"\n",
              "              title=\"Convert this dataframe to an interactive table.\"\n",
              "              style=\"display:none;\">\n",
              "        \n",
              "  <svg xmlns=\"http://www.w3.org/2000/svg\" height=\"24px\"viewBox=\"0 0 24 24\"\n",
              "       width=\"24px\">\n",
              "    <path d=\"M0 0h24v24H0V0z\" fill=\"none\"/>\n",
              "    <path d=\"M18.56 5.44l.94 2.06.94-2.06 2.06-.94-2.06-.94-.94-2.06-.94 2.06-2.06.94zm-11 1L8.5 8.5l.94-2.06 2.06-.94-2.06-.94L8.5 2.5l-.94 2.06-2.06.94zm10 10l.94 2.06.94-2.06 2.06-.94-2.06-.94-.94-2.06-.94 2.06-2.06.94z\"/><path d=\"M17.41 7.96l-1.37-1.37c-.4-.4-.92-.59-1.43-.59-.52 0-1.04.2-1.43.59L10.3 9.45l-7.72 7.72c-.78.78-.78 2.05 0 2.83L4 21.41c.39.39.9.59 1.41.59.51 0 1.02-.2 1.41-.59l7.78-7.78 2.81-2.81c.8-.78.8-2.07 0-2.86zM5.41 20L4 18.59l7.72-7.72 1.47 1.35L5.41 20z\"/>\n",
              "  </svg>\n",
              "      </button>\n",
              "      \n",
              "  <style>\n",
              "    .colab-df-container {\n",
              "      display:flex;\n",
              "      flex-wrap:wrap;\n",
              "      gap: 12px;\n",
              "    }\n",
              "\n",
              "    .colab-df-convert {\n",
              "      background-color: #E8F0FE;\n",
              "      border: none;\n",
              "      border-radius: 50%;\n",
              "      cursor: pointer;\n",
              "      display: none;\n",
              "      fill: #1967D2;\n",
              "      height: 32px;\n",
              "      padding: 0 0 0 0;\n",
              "      width: 32px;\n",
              "    }\n",
              "\n",
              "    .colab-df-convert:hover {\n",
              "      background-color: #E2EBFA;\n",
              "      box-shadow: 0px 1px 2px rgba(60, 64, 67, 0.3), 0px 1px 3px 1px rgba(60, 64, 67, 0.15);\n",
              "      fill: #174EA6;\n",
              "    }\n",
              "\n",
              "    [theme=dark] .colab-df-convert {\n",
              "      background-color: #3B4455;\n",
              "      fill: #D2E3FC;\n",
              "    }\n",
              "\n",
              "    [theme=dark] .colab-df-convert:hover {\n",
              "      background-color: #434B5C;\n",
              "      box-shadow: 0px 1px 3px 1px rgba(0, 0, 0, 0.15);\n",
              "      filter: drop-shadow(0px 1px 2px rgba(0, 0, 0, 0.3));\n",
              "      fill: #FFFFFF;\n",
              "    }\n",
              "  </style>\n",
              "\n",
              "      <script>\n",
              "        const buttonEl =\n",
              "          document.querySelector('#df-9e2cb75f-68dd-4834-af35-a0a5cc46512b button.colab-df-convert');\n",
              "        buttonEl.style.display =\n",
              "          google.colab.kernel.accessAllowed ? 'block' : 'none';\n",
              "\n",
              "        async function convertToInteractive(key) {\n",
              "          const element = document.querySelector('#df-9e2cb75f-68dd-4834-af35-a0a5cc46512b');\n",
              "          const dataTable =\n",
              "            await google.colab.kernel.invokeFunction('convertToInteractive',\n",
              "                                                     [key], {});\n",
              "          if (!dataTable) return;\n",
              "\n",
              "          const docLinkHtml = 'Like what you see? Visit the ' +\n",
              "            '<a target=\"_blank\" href=https://colab.research.google.com/notebooks/data_table.ipynb>data table notebook</a>'\n",
              "            + ' to learn more about interactive tables.';\n",
              "          element.innerHTML = '';\n",
              "          dataTable['output_type'] = 'display_data';\n",
              "          await google.colab.output.renderOutput(dataTable, element);\n",
              "          const docLink = document.createElement('div');\n",
              "          docLink.innerHTML = docLinkHtml;\n",
              "          element.appendChild(docLink);\n",
              "        }\n",
              "      </script>\n",
              "    </div>\n",
              "  </div>\n",
              "  "
            ]
          },
          "metadata": {},
          "execution_count": 19
        }
      ],
      "source": [
        "classWithoutTarget = train_data.drop(['Potability'], axis = 1)\n",
        "classWithoutTarget"
      ]
    },
    {
      "cell_type": "code",
      "execution_count": null,
      "metadata": {
        "id": "YYZUMMpC7Ug0"
      },
      "outputs": [],
      "source": [
        "train_classWithoutTarget,test_classWithoutTarget,train_TargetClass,test_TargetClass = train_test_split(classWithoutTarget,TargetClass, test_size=0.20, random_state=42)"
      ]
    },
    {
      "cell_type": "code",
      "execution_count": null,
      "metadata": {
        "colab": {
          "base_uri": "https://localhost:8080/"
        },
        "id": "1wspXNR79Hr5",
        "outputId": "54d2e087-1b7c-437a-ed93-88ffae4a32c1"
      },
      "outputs": [
        {
          "output_type": "execute_result",
          "data": {
            "text/plain": [
              "(1834, 9)"
            ]
          },
          "metadata": {},
          "execution_count": 21
        }
      ],
      "source": [
        "train_classWithoutTarget.shape"
      ]
    },
    {
      "cell_type": "code",
      "execution_count": null,
      "metadata": {
        "colab": {
          "base_uri": "https://localhost:8080/"
        },
        "id": "rAfcMW8r9M3d",
        "outputId": "d5a126ac-4073-4414-a9d7-ee268f82362f"
      },
      "outputs": [
        {
          "output_type": "execute_result",
          "data": {
            "text/plain": [
              "(459, 9)"
            ]
          },
          "metadata": {},
          "execution_count": 22
        }
      ],
      "source": [
        "test_classWithoutTarget.shape"
      ]
    },
    {
      "cell_type": "code",
      "execution_count": null,
      "metadata": {
        "colab": {
          "base_uri": "https://localhost:8080/"
        },
        "id": "INnZE49s9RBy",
        "outputId": "22643fd4-1994-4ffd-da8b-27816115ac13"
      },
      "outputs": [
        {
          "output_type": "execute_result",
          "data": {
            "text/plain": [
              "(1834,)"
            ]
          },
          "metadata": {},
          "execution_count": 23
        }
      ],
      "source": [
        "train_TargetClass.shape"
      ]
    },
    {
      "cell_type": "code",
      "execution_count": null,
      "metadata": {
        "colab": {
          "base_uri": "https://localhost:8080/"
        },
        "id": "CRV5lboF9a2d",
        "outputId": "03b52541-bc33-472b-81ed-533c4da8e4f5"
      },
      "outputs": [
        {
          "output_type": "execute_result",
          "data": {
            "text/plain": [
              "(459,)"
            ]
          },
          "metadata": {},
          "execution_count": 24
        }
      ],
      "source": [
        "test_TargetClass.shape"
      ]
    },
    {
      "cell_type": "markdown",
      "metadata": {
        "id": "d9KXMg1zFSEO"
      },
      "source": [
        "**3. Data transformation and scaling**"
      ]
    },
    {
      "cell_type": "markdown",
      "metadata": {
        "id": "SusM48eU8hyq"
      },
      "source": [
        "**scalling train:**"
      ]
    },
    {
      "cell_type": "code",
      "execution_count": null,
      "metadata": {
        "colab": {
          "base_uri": "https://localhost:8080/",
          "height": 423
        },
        "id": "a9bjnYAJFTxw",
        "outputId": "eb8fc00a-e680-4a86-d3e4-eb025151c80a"
      },
      "outputs": [
        {
          "output_type": "execute_result",
          "data": {
            "text/plain": [
              "            ph  Hardness    Solids  Chloramines   Sulfate  Conductivity  \\\n",
              "0     0.046772 -0.706544  0.999407    -1.542672  0.030977      1.268905   \n",
              "1    -0.112176  0.101600 -0.783011    -1.289409  0.030977     -1.490352   \n",
              "2    -0.022657 -0.069787 -0.606349     0.339844  0.489131      1.005865   \n",
              "3     0.002316  0.286365  0.582924    -1.989717 -0.958375      1.141775   \n",
              "4     0.002316  0.953551  1.166178    -2.235558 -0.305782      0.106669   \n",
              "...        ...       ...       ...          ...       ...           ...   \n",
              "1829 -0.858316 -1.265078  0.336633    -0.403652 -0.991885     -1.393994   \n",
              "1830 -0.209384 -0.183488 -0.152715    -0.243352  0.030977      0.750889   \n",
              "1831  0.314493 -0.179667  0.855874     0.445876  0.480923      1.251099   \n",
              "1832 -0.283110  1.701565 -1.899929     2.525357  0.030977     -1.073883   \n",
              "1833 -0.666724  0.874118  0.444252     1.458559  0.030977     -0.494287   \n",
              "\n",
              "      Organic_carbon  Trihalomethanes  Turbidity  \n",
              "0           0.098169        -0.548231   0.426607  \n",
              "1           0.290544         1.490275  -0.874772  \n",
              "2           1.629945         0.972165  -0.008433  \n",
              "3          -1.545358        -1.157619   0.120671  \n",
              "4          -0.760160        -0.596294  -0.496358  \n",
              "...              ...              ...        ...  \n",
              "1829       -0.755776         1.185920   0.909177  \n",
              "1830       -1.328451         1.248596  -1.558380  \n",
              "1831        1.541874         0.804275   0.160956  \n",
              "1832       -0.688474         0.615632   0.526869  \n",
              "1833       -0.347163         1.164943   0.503847  \n",
              "\n",
              "[1834 rows x 9 columns]"
            ],
            "text/html": [
              "\n",
              "  <div id=\"df-ae6c0ff1-525f-45f9-8ea5-31df92937a5e\">\n",
              "    <div class=\"colab-df-container\">\n",
              "      <div>\n",
              "<style scoped>\n",
              "    .dataframe tbody tr th:only-of-type {\n",
              "        vertical-align: middle;\n",
              "    }\n",
              "\n",
              "    .dataframe tbody tr th {\n",
              "        vertical-align: top;\n",
              "    }\n",
              "\n",
              "    .dataframe thead th {\n",
              "        text-align: right;\n",
              "    }\n",
              "</style>\n",
              "<table border=\"1\" class=\"dataframe\">\n",
              "  <thead>\n",
              "    <tr style=\"text-align: right;\">\n",
              "      <th></th>\n",
              "      <th>ph</th>\n",
              "      <th>Hardness</th>\n",
              "      <th>Solids</th>\n",
              "      <th>Chloramines</th>\n",
              "      <th>Sulfate</th>\n",
              "      <th>Conductivity</th>\n",
              "      <th>Organic_carbon</th>\n",
              "      <th>Trihalomethanes</th>\n",
              "      <th>Turbidity</th>\n",
              "    </tr>\n",
              "  </thead>\n",
              "  <tbody>\n",
              "    <tr>\n",
              "      <th>0</th>\n",
              "      <td>0.046772</td>\n",
              "      <td>-0.706544</td>\n",
              "      <td>0.999407</td>\n",
              "      <td>-1.542672</td>\n",
              "      <td>0.030977</td>\n",
              "      <td>1.268905</td>\n",
              "      <td>0.098169</td>\n",
              "      <td>-0.548231</td>\n",
              "      <td>0.426607</td>\n",
              "    </tr>\n",
              "    <tr>\n",
              "      <th>1</th>\n",
              "      <td>-0.112176</td>\n",
              "      <td>0.101600</td>\n",
              "      <td>-0.783011</td>\n",
              "      <td>-1.289409</td>\n",
              "      <td>0.030977</td>\n",
              "      <td>-1.490352</td>\n",
              "      <td>0.290544</td>\n",
              "      <td>1.490275</td>\n",
              "      <td>-0.874772</td>\n",
              "    </tr>\n",
              "    <tr>\n",
              "      <th>2</th>\n",
              "      <td>-0.022657</td>\n",
              "      <td>-0.069787</td>\n",
              "      <td>-0.606349</td>\n",
              "      <td>0.339844</td>\n",
              "      <td>0.489131</td>\n",
              "      <td>1.005865</td>\n",
              "      <td>1.629945</td>\n",
              "      <td>0.972165</td>\n",
              "      <td>-0.008433</td>\n",
              "    </tr>\n",
              "    <tr>\n",
              "      <th>3</th>\n",
              "      <td>0.002316</td>\n",
              "      <td>0.286365</td>\n",
              "      <td>0.582924</td>\n",
              "      <td>-1.989717</td>\n",
              "      <td>-0.958375</td>\n",
              "      <td>1.141775</td>\n",
              "      <td>-1.545358</td>\n",
              "      <td>-1.157619</td>\n",
              "      <td>0.120671</td>\n",
              "    </tr>\n",
              "    <tr>\n",
              "      <th>4</th>\n",
              "      <td>0.002316</td>\n",
              "      <td>0.953551</td>\n",
              "      <td>1.166178</td>\n",
              "      <td>-2.235558</td>\n",
              "      <td>-0.305782</td>\n",
              "      <td>0.106669</td>\n",
              "      <td>-0.760160</td>\n",
              "      <td>-0.596294</td>\n",
              "      <td>-0.496358</td>\n",
              "    </tr>\n",
              "    <tr>\n",
              "      <th>...</th>\n",
              "      <td>...</td>\n",
              "      <td>...</td>\n",
              "      <td>...</td>\n",
              "      <td>...</td>\n",
              "      <td>...</td>\n",
              "      <td>...</td>\n",
              "      <td>...</td>\n",
              "      <td>...</td>\n",
              "      <td>...</td>\n",
              "    </tr>\n",
              "    <tr>\n",
              "      <th>1829</th>\n",
              "      <td>-0.858316</td>\n",
              "      <td>-1.265078</td>\n",
              "      <td>0.336633</td>\n",
              "      <td>-0.403652</td>\n",
              "      <td>-0.991885</td>\n",
              "      <td>-1.393994</td>\n",
              "      <td>-0.755776</td>\n",
              "      <td>1.185920</td>\n",
              "      <td>0.909177</td>\n",
              "    </tr>\n",
              "    <tr>\n",
              "      <th>1830</th>\n",
              "      <td>-0.209384</td>\n",
              "      <td>-0.183488</td>\n",
              "      <td>-0.152715</td>\n",
              "      <td>-0.243352</td>\n",
              "      <td>0.030977</td>\n",
              "      <td>0.750889</td>\n",
              "      <td>-1.328451</td>\n",
              "      <td>1.248596</td>\n",
              "      <td>-1.558380</td>\n",
              "    </tr>\n",
              "    <tr>\n",
              "      <th>1831</th>\n",
              "      <td>0.314493</td>\n",
              "      <td>-0.179667</td>\n",
              "      <td>0.855874</td>\n",
              "      <td>0.445876</td>\n",
              "      <td>0.480923</td>\n",
              "      <td>1.251099</td>\n",
              "      <td>1.541874</td>\n",
              "      <td>0.804275</td>\n",
              "      <td>0.160956</td>\n",
              "    </tr>\n",
              "    <tr>\n",
              "      <th>1832</th>\n",
              "      <td>-0.283110</td>\n",
              "      <td>1.701565</td>\n",
              "      <td>-1.899929</td>\n",
              "      <td>2.525357</td>\n",
              "      <td>0.030977</td>\n",
              "      <td>-1.073883</td>\n",
              "      <td>-0.688474</td>\n",
              "      <td>0.615632</td>\n",
              "      <td>0.526869</td>\n",
              "    </tr>\n",
              "    <tr>\n",
              "      <th>1833</th>\n",
              "      <td>-0.666724</td>\n",
              "      <td>0.874118</td>\n",
              "      <td>0.444252</td>\n",
              "      <td>1.458559</td>\n",
              "      <td>0.030977</td>\n",
              "      <td>-0.494287</td>\n",
              "      <td>-0.347163</td>\n",
              "      <td>1.164943</td>\n",
              "      <td>0.503847</td>\n",
              "    </tr>\n",
              "  </tbody>\n",
              "</table>\n",
              "<p>1834 rows × 9 columns</p>\n",
              "</div>\n",
              "      <button class=\"colab-df-convert\" onclick=\"convertToInteractive('df-ae6c0ff1-525f-45f9-8ea5-31df92937a5e')\"\n",
              "              title=\"Convert this dataframe to an interactive table.\"\n",
              "              style=\"display:none;\">\n",
              "        \n",
              "  <svg xmlns=\"http://www.w3.org/2000/svg\" height=\"24px\"viewBox=\"0 0 24 24\"\n",
              "       width=\"24px\">\n",
              "    <path d=\"M0 0h24v24H0V0z\" fill=\"none\"/>\n",
              "    <path d=\"M18.56 5.44l.94 2.06.94-2.06 2.06-.94-2.06-.94-.94-2.06-.94 2.06-2.06.94zm-11 1L8.5 8.5l.94-2.06 2.06-.94-2.06-.94L8.5 2.5l-.94 2.06-2.06.94zm10 10l.94 2.06.94-2.06 2.06-.94-2.06-.94-.94-2.06-.94 2.06-2.06.94z\"/><path d=\"M17.41 7.96l-1.37-1.37c-.4-.4-.92-.59-1.43-.59-.52 0-1.04.2-1.43.59L10.3 9.45l-7.72 7.72c-.78.78-.78 2.05 0 2.83L4 21.41c.39.39.9.59 1.41.59.51 0 1.02-.2 1.41-.59l7.78-7.78 2.81-2.81c.8-.78.8-2.07 0-2.86zM5.41 20L4 18.59l7.72-7.72 1.47 1.35L5.41 20z\"/>\n",
              "  </svg>\n",
              "      </button>\n",
              "      \n",
              "  <style>\n",
              "    .colab-df-container {\n",
              "      display:flex;\n",
              "      flex-wrap:wrap;\n",
              "      gap: 12px;\n",
              "    }\n",
              "\n",
              "    .colab-df-convert {\n",
              "      background-color: #E8F0FE;\n",
              "      border: none;\n",
              "      border-radius: 50%;\n",
              "      cursor: pointer;\n",
              "      display: none;\n",
              "      fill: #1967D2;\n",
              "      height: 32px;\n",
              "      padding: 0 0 0 0;\n",
              "      width: 32px;\n",
              "    }\n",
              "\n",
              "    .colab-df-convert:hover {\n",
              "      background-color: #E2EBFA;\n",
              "      box-shadow: 0px 1px 2px rgba(60, 64, 67, 0.3), 0px 1px 3px 1px rgba(60, 64, 67, 0.15);\n",
              "      fill: #174EA6;\n",
              "    }\n",
              "\n",
              "    [theme=dark] .colab-df-convert {\n",
              "      background-color: #3B4455;\n",
              "      fill: #D2E3FC;\n",
              "    }\n",
              "\n",
              "    [theme=dark] .colab-df-convert:hover {\n",
              "      background-color: #434B5C;\n",
              "      box-shadow: 0px 1px 3px 1px rgba(0, 0, 0, 0.15);\n",
              "      filter: drop-shadow(0px 1px 2px rgba(0, 0, 0, 0.3));\n",
              "      fill: #FFFFFF;\n",
              "    }\n",
              "  </style>\n",
              "\n",
              "      <script>\n",
              "        const buttonEl =\n",
              "          document.querySelector('#df-ae6c0ff1-525f-45f9-8ea5-31df92937a5e button.colab-df-convert');\n",
              "        buttonEl.style.display =\n",
              "          google.colab.kernel.accessAllowed ? 'block' : 'none';\n",
              "\n",
              "        async function convertToInteractive(key) {\n",
              "          const element = document.querySelector('#df-ae6c0ff1-525f-45f9-8ea5-31df92937a5e');\n",
              "          const dataTable =\n",
              "            await google.colab.kernel.invokeFunction('convertToInteractive',\n",
              "                                                     [key], {});\n",
              "          if (!dataTable) return;\n",
              "\n",
              "          const docLinkHtml = 'Like what you see? Visit the ' +\n",
              "            '<a target=\"_blank\" href=https://colab.research.google.com/notebooks/data_table.ipynb>data table notebook</a>'\n",
              "            + ' to learn more about interactive tables.';\n",
              "          element.innerHTML = '';\n",
              "          dataTable['output_type'] = 'display_data';\n",
              "          await google.colab.output.renderOutput(dataTable, element);\n",
              "          const docLink = document.createElement('div');\n",
              "          docLink.innerHTML = docLinkHtml;\n",
              "          element.appendChild(docLink);\n",
              "        }\n",
              "      </script>\n",
              "    </div>\n",
              "  </div>\n",
              "  "
            ]
          },
          "metadata": {},
          "execution_count": 25
        }
      ],
      "source": [
        "scaler = StandardScaler()\n",
        "scaler.fit(train_classWithoutTarget)\n",
        "scaled=scaler.transform(train_classWithoutTarget)\n",
        "water_scaled = pd.DataFrame(scaled, columns=train_classWithoutTarget.columns)\n",
        "water_scaled"
      ]
    },
    {
      "cell_type": "markdown",
      "metadata": {
        "id": "vJrj5h8JfYs2"
      },
      "source": [
        "**scalling test**"
      ]
    },
    {
      "cell_type": "code",
      "execution_count": null,
      "metadata": {
        "colab": {
          "base_uri": "https://localhost:8080/",
          "height": 423
        },
        "id": "AtdZlEjuehkN",
        "outputId": "6b03b077-e797-4668-e6fc-445bc52a32d1"
      },
      "outputs": [
        {
          "output_type": "execute_result",
          "data": {
            "text/plain": [
              "           ph  Hardness    Solids  Chloramines   Sulfate  Conductivity  \\\n",
              "0    0.006471  0.542475  0.304824    -0.607688 -2.468189      0.941086   \n",
              "1    0.486085  1.033771 -0.047881     0.480825 -0.433590     -0.359397   \n",
              "2   -0.016087 -0.374901  0.704631    -0.286608 -0.152822     -0.566171   \n",
              "3   -1.030949  0.016826 -1.096402    -0.840656 -1.512769      0.205062   \n",
              "4    1.493800 -0.489800 -0.512538    -0.288804 -0.715070     -0.361022   \n",
              "..        ...       ...       ...          ...       ...           ...   \n",
              "454 -0.262050 -0.147182 -0.484314    -1.969518 -1.095817     -0.466190   \n",
              "455 -0.867933 -1.415995 -1.163008     0.573769  0.156099      0.521142   \n",
              "456  1.285970  0.367561  0.505812     0.144788 -0.196522      0.027168   \n",
              "457  0.216693  0.714065  0.366210     1.128314 -0.069341      1.515217   \n",
              "458 -0.207614 -0.623947 -1.107240    -0.771566  1.570186      0.231990   \n",
              "\n",
              "     Organic_carbon  Trihalomethanes  Turbidity  \n",
              "0          0.665850         1.603438   2.240837  \n",
              "1          1.218637        -1.553432   0.470165  \n",
              "2         -0.955879        -0.246785  -0.689364  \n",
              "3         -0.004453         0.134283   0.590680  \n",
              "4         -0.799781        -2.118876   0.162988  \n",
              "..              ...              ...        ...  \n",
              "454       -1.367562         1.637029   1.466551  \n",
              "455        0.466071        -0.516948  -0.194477  \n",
              "456       -2.138338         1.399636  -1.358488  \n",
              "457        1.075094        -0.335123   0.480246  \n",
              "458        0.495196         2.386153  -1.449077  \n",
              "\n",
              "[459 rows x 9 columns]"
            ],
            "text/html": [
              "\n",
              "  <div id=\"df-d083a361-54c2-40b8-9fe6-edeee1c3dba8\">\n",
              "    <div class=\"colab-df-container\">\n",
              "      <div>\n",
              "<style scoped>\n",
              "    .dataframe tbody tr th:only-of-type {\n",
              "        vertical-align: middle;\n",
              "    }\n",
              "\n",
              "    .dataframe tbody tr th {\n",
              "        vertical-align: top;\n",
              "    }\n",
              "\n",
              "    .dataframe thead th {\n",
              "        text-align: right;\n",
              "    }\n",
              "</style>\n",
              "<table border=\"1\" class=\"dataframe\">\n",
              "  <thead>\n",
              "    <tr style=\"text-align: right;\">\n",
              "      <th></th>\n",
              "      <th>ph</th>\n",
              "      <th>Hardness</th>\n",
              "      <th>Solids</th>\n",
              "      <th>Chloramines</th>\n",
              "      <th>Sulfate</th>\n",
              "      <th>Conductivity</th>\n",
              "      <th>Organic_carbon</th>\n",
              "      <th>Trihalomethanes</th>\n",
              "      <th>Turbidity</th>\n",
              "    </tr>\n",
              "  </thead>\n",
              "  <tbody>\n",
              "    <tr>\n",
              "      <th>0</th>\n",
              "      <td>0.006471</td>\n",
              "      <td>0.542475</td>\n",
              "      <td>0.304824</td>\n",
              "      <td>-0.607688</td>\n",
              "      <td>-2.468189</td>\n",
              "      <td>0.941086</td>\n",
              "      <td>0.665850</td>\n",
              "      <td>1.603438</td>\n",
              "      <td>2.240837</td>\n",
              "    </tr>\n",
              "    <tr>\n",
              "      <th>1</th>\n",
              "      <td>0.486085</td>\n",
              "      <td>1.033771</td>\n",
              "      <td>-0.047881</td>\n",
              "      <td>0.480825</td>\n",
              "      <td>-0.433590</td>\n",
              "      <td>-0.359397</td>\n",
              "      <td>1.218637</td>\n",
              "      <td>-1.553432</td>\n",
              "      <td>0.470165</td>\n",
              "    </tr>\n",
              "    <tr>\n",
              "      <th>2</th>\n",
              "      <td>-0.016087</td>\n",
              "      <td>-0.374901</td>\n",
              "      <td>0.704631</td>\n",
              "      <td>-0.286608</td>\n",
              "      <td>-0.152822</td>\n",
              "      <td>-0.566171</td>\n",
              "      <td>-0.955879</td>\n",
              "      <td>-0.246785</td>\n",
              "      <td>-0.689364</td>\n",
              "    </tr>\n",
              "    <tr>\n",
              "      <th>3</th>\n",
              "      <td>-1.030949</td>\n",
              "      <td>0.016826</td>\n",
              "      <td>-1.096402</td>\n",
              "      <td>-0.840656</td>\n",
              "      <td>-1.512769</td>\n",
              "      <td>0.205062</td>\n",
              "      <td>-0.004453</td>\n",
              "      <td>0.134283</td>\n",
              "      <td>0.590680</td>\n",
              "    </tr>\n",
              "    <tr>\n",
              "      <th>4</th>\n",
              "      <td>1.493800</td>\n",
              "      <td>-0.489800</td>\n",
              "      <td>-0.512538</td>\n",
              "      <td>-0.288804</td>\n",
              "      <td>-0.715070</td>\n",
              "      <td>-0.361022</td>\n",
              "      <td>-0.799781</td>\n",
              "      <td>-2.118876</td>\n",
              "      <td>0.162988</td>\n",
              "    </tr>\n",
              "    <tr>\n",
              "      <th>...</th>\n",
              "      <td>...</td>\n",
              "      <td>...</td>\n",
              "      <td>...</td>\n",
              "      <td>...</td>\n",
              "      <td>...</td>\n",
              "      <td>...</td>\n",
              "      <td>...</td>\n",
              "      <td>...</td>\n",
              "      <td>...</td>\n",
              "    </tr>\n",
              "    <tr>\n",
              "      <th>454</th>\n",
              "      <td>-0.262050</td>\n",
              "      <td>-0.147182</td>\n",
              "      <td>-0.484314</td>\n",
              "      <td>-1.969518</td>\n",
              "      <td>-1.095817</td>\n",
              "      <td>-0.466190</td>\n",
              "      <td>-1.367562</td>\n",
              "      <td>1.637029</td>\n",
              "      <td>1.466551</td>\n",
              "    </tr>\n",
              "    <tr>\n",
              "      <th>455</th>\n",
              "      <td>-0.867933</td>\n",
              "      <td>-1.415995</td>\n",
              "      <td>-1.163008</td>\n",
              "      <td>0.573769</td>\n",
              "      <td>0.156099</td>\n",
              "      <td>0.521142</td>\n",
              "      <td>0.466071</td>\n",
              "      <td>-0.516948</td>\n",
              "      <td>-0.194477</td>\n",
              "    </tr>\n",
              "    <tr>\n",
              "      <th>456</th>\n",
              "      <td>1.285970</td>\n",
              "      <td>0.367561</td>\n",
              "      <td>0.505812</td>\n",
              "      <td>0.144788</td>\n",
              "      <td>-0.196522</td>\n",
              "      <td>0.027168</td>\n",
              "      <td>-2.138338</td>\n",
              "      <td>1.399636</td>\n",
              "      <td>-1.358488</td>\n",
              "    </tr>\n",
              "    <tr>\n",
              "      <th>457</th>\n",
              "      <td>0.216693</td>\n",
              "      <td>0.714065</td>\n",
              "      <td>0.366210</td>\n",
              "      <td>1.128314</td>\n",
              "      <td>-0.069341</td>\n",
              "      <td>1.515217</td>\n",
              "      <td>1.075094</td>\n",
              "      <td>-0.335123</td>\n",
              "      <td>0.480246</td>\n",
              "    </tr>\n",
              "    <tr>\n",
              "      <th>458</th>\n",
              "      <td>-0.207614</td>\n",
              "      <td>-0.623947</td>\n",
              "      <td>-1.107240</td>\n",
              "      <td>-0.771566</td>\n",
              "      <td>1.570186</td>\n",
              "      <td>0.231990</td>\n",
              "      <td>0.495196</td>\n",
              "      <td>2.386153</td>\n",
              "      <td>-1.449077</td>\n",
              "    </tr>\n",
              "  </tbody>\n",
              "</table>\n",
              "<p>459 rows × 9 columns</p>\n",
              "</div>\n",
              "      <button class=\"colab-df-convert\" onclick=\"convertToInteractive('df-d083a361-54c2-40b8-9fe6-edeee1c3dba8')\"\n",
              "              title=\"Convert this dataframe to an interactive table.\"\n",
              "              style=\"display:none;\">\n",
              "        \n",
              "  <svg xmlns=\"http://www.w3.org/2000/svg\" height=\"24px\"viewBox=\"0 0 24 24\"\n",
              "       width=\"24px\">\n",
              "    <path d=\"M0 0h24v24H0V0z\" fill=\"none\"/>\n",
              "    <path d=\"M18.56 5.44l.94 2.06.94-2.06 2.06-.94-2.06-.94-.94-2.06-.94 2.06-2.06.94zm-11 1L8.5 8.5l.94-2.06 2.06-.94-2.06-.94L8.5 2.5l-.94 2.06-2.06.94zm10 10l.94 2.06.94-2.06 2.06-.94-2.06-.94-.94-2.06-.94 2.06-2.06.94z\"/><path d=\"M17.41 7.96l-1.37-1.37c-.4-.4-.92-.59-1.43-.59-.52 0-1.04.2-1.43.59L10.3 9.45l-7.72 7.72c-.78.78-.78 2.05 0 2.83L4 21.41c.39.39.9.59 1.41.59.51 0 1.02-.2 1.41-.59l7.78-7.78 2.81-2.81c.8-.78.8-2.07 0-2.86zM5.41 20L4 18.59l7.72-7.72 1.47 1.35L5.41 20z\"/>\n",
              "  </svg>\n",
              "      </button>\n",
              "      \n",
              "  <style>\n",
              "    .colab-df-container {\n",
              "      display:flex;\n",
              "      flex-wrap:wrap;\n",
              "      gap: 12px;\n",
              "    }\n",
              "\n",
              "    .colab-df-convert {\n",
              "      background-color: #E8F0FE;\n",
              "      border: none;\n",
              "      border-radius: 50%;\n",
              "      cursor: pointer;\n",
              "      display: none;\n",
              "      fill: #1967D2;\n",
              "      height: 32px;\n",
              "      padding: 0 0 0 0;\n",
              "      width: 32px;\n",
              "    }\n",
              "\n",
              "    .colab-df-convert:hover {\n",
              "      background-color: #E2EBFA;\n",
              "      box-shadow: 0px 1px 2px rgba(60, 64, 67, 0.3), 0px 1px 3px 1px rgba(60, 64, 67, 0.15);\n",
              "      fill: #174EA6;\n",
              "    }\n",
              "\n",
              "    [theme=dark] .colab-df-convert {\n",
              "      background-color: #3B4455;\n",
              "      fill: #D2E3FC;\n",
              "    }\n",
              "\n",
              "    [theme=dark] .colab-df-convert:hover {\n",
              "      background-color: #434B5C;\n",
              "      box-shadow: 0px 1px 3px 1px rgba(0, 0, 0, 0.15);\n",
              "      filter: drop-shadow(0px 1px 2px rgba(0, 0, 0, 0.3));\n",
              "      fill: #FFFFFF;\n",
              "    }\n",
              "  </style>\n",
              "\n",
              "      <script>\n",
              "        const buttonEl =\n",
              "          document.querySelector('#df-d083a361-54c2-40b8-9fe6-edeee1c3dba8 button.colab-df-convert');\n",
              "        buttonEl.style.display =\n",
              "          google.colab.kernel.accessAllowed ? 'block' : 'none';\n",
              "\n",
              "        async function convertToInteractive(key) {\n",
              "          const element = document.querySelector('#df-d083a361-54c2-40b8-9fe6-edeee1c3dba8');\n",
              "          const dataTable =\n",
              "            await google.colab.kernel.invokeFunction('convertToInteractive',\n",
              "                                                     [key], {});\n",
              "          if (!dataTable) return;\n",
              "\n",
              "          const docLinkHtml = 'Like what you see? Visit the ' +\n",
              "            '<a target=\"_blank\" href=https://colab.research.google.com/notebooks/data_table.ipynb>data table notebook</a>'\n",
              "            + ' to learn more about interactive tables.';\n",
              "          element.innerHTML = '';\n",
              "          dataTable['output_type'] = 'display_data';\n",
              "          await google.colab.output.renderOutput(dataTable, element);\n",
              "          const docLink = document.createElement('div');\n",
              "          docLink.innerHTML = docLinkHtml;\n",
              "          element.appendChild(docLink);\n",
              "        }\n",
              "      </script>\n",
              "    </div>\n",
              "  </div>\n",
              "  "
            ]
          },
          "metadata": {},
          "execution_count": 26
        }
      ],
      "source": [
        "from sklearn.preprocessing import StandardScaler\n",
        "scaler = StandardScaler()\n",
        "scaler.fit(test_classWithoutTarget)\n",
        "scaled=scaler.transform(test_classWithoutTarget)\n",
        "water_scaled_test = pd.DataFrame(scaled, columns=test_classWithoutTarget.columns)\n",
        "water_scaled_test\n"
      ]
    },
    {
      "cell_type": "markdown",
      "metadata": {
        "id": "ND7LDsUEAG7o"
      },
      "source": [
        "**Features selection**"
      ]
    },
    {
      "cell_type": "code",
      "execution_count": null,
      "metadata": {
        "colab": {
          "base_uri": "https://localhost:8080/"
        },
        "id": "-AEAEzKjCXBV",
        "outputId": "57b31274-7f57-4658-83d3-50bf88ef3e28"
      },
      "outputs": [
        {
          "output_type": "stream",
          "name": "stdout",
          "text": [
            "Ranking of features:\n",
            " [1 1 1 1 1 1 2 1 3]\n",
            "Number of selected features: 7\n"
          ]
        }
      ],
      "source": [
        "rfe_model = RandomForestClassifier(random_state=42)\n",
        "#select the best 7 features\n",
        "rfe = RFE(estimator=rfe_model, n_features_to_select=7, step=1 )\n",
        "rfe=rfe.fit(train_classWithoutTarget, train_TargetClass.values.ravel())\n",
        "print(\"Ranking of features:\\n\",rfe.ranking_)\n",
        "print(\"Number of selected features:\",rfe.n_features_)"
      ]
    },
    {
      "cell_type": "markdown",
      "metadata": {
        "id": "PImzqRZWxAi7"
      },
      "source": [
        "selected (estimated best) features are assigned rank 1."
      ]
    },
    {
      "cell_type": "code",
      "execution_count": null,
      "metadata": {
        "colab": {
          "base_uri": "https://localhost:8080/"
        },
        "id": "XdWZ6IAJCkMf",
        "outputId": "f429da04-0111-46f1-dea2-8dbc09127ff5"
      },
      "outputs": [
        {
          "output_type": "execute_result",
          "data": {
            "text/plain": [
              "(1834, 7)"
            ]
          },
          "metadata": {},
          "execution_count": 28
        }
      ],
      "source": [
        "X_train_rfe=rfe.transform(train_classWithoutTarget)\n",
        "X_test_rfe= rfe.transform(test_classWithoutTarget)\n",
        "X_train_rfe.shape"
      ]
    },
    {
      "cell_type": "code",
      "execution_count": null,
      "metadata": {
        "id": "xw31fCaQXJ-0"
      },
      "outputs": [],
      "source": [
        "rfe_model=rfe_model.fit(X_train_rfe, train_TargetClass)"
      ]
    },
    {
      "cell_type": "code",
      "execution_count": null,
      "metadata": {
        "colab": {
          "base_uri": "https://localhost:8080/"
        },
        "id": "5wOJUtsm2cne",
        "outputId": "5b08645b-5b61-4b3e-ca6e-9ad45529122b"
      },
      "outputs": [
        {
          "output_type": "stream",
          "name": "stdout",
          "text": [
            "Index(['ph', 'Hardness', 'Solids', 'Chloramines', 'Sulfate', 'Conductivity',\n",
            "       'Trihalomethanes'],\n",
            "      dtype='object')\n"
          ]
        }
      ],
      "source": [
        "# name of the columns that are selected by RFE\n",
        "cols = list(water_scaled.columns)\n",
        "temp = pd.Series(rfe.support_,index = cols)\n",
        "selected_features_rfe = temp[temp==True].index\n",
        "print(selected_features_rfe)"
      ]
    },
    {
      "cell_type": "markdown",
      "metadata": {
        "id": "u7vd3RzBMhfP"
      },
      "source": [
        "# **Model Training**:"
      ]
    },
    {
      "cell_type": "markdown",
      "metadata": {
        "id": "JHrNeLbkoPFT"
      },
      "source": [
        "**Random Forest cross validation:**"
      ]
    },
    {
      "cell_type": "code",
      "execution_count": null,
      "metadata": {
        "colab": {
          "base_uri": "https://localhost:8080/"
        },
        "id": "XOzOoST8nr5i",
        "outputId": "7cc09d07-68d5-403b-aee2-a7605bb0a9ca"
      },
      "outputs": [
        {
          "output_type": "stream",
          "name": "stdout",
          "text": [
            "Accuracy of each fold: [0.64673913 0.66847826 0.67391304 0.67934783 0.71584699 0.66120219\n",
            " 0.72677596 0.66666667 0.67213115 0.69398907]\n",
            "Mean of accuracy 0.6805090282727488\n"
          ]
        }
      ],
      "source": [
        "#RandomForestClassifier\n",
        "forest_clf = RandomForestClassifier(n_estimators=100,criterion=\"gini\",min_samples_split=2,random_state=42,max_depth=20)\n",
        "forest_clf = forest_clf.fit(X_train_rfe,train_TargetClass)\n",
        "sco_forset = cross_val_score(forest_clf,X_train_rfe,train_TargetClass, cv=10,scoring=\"accuracy\")\n",
        "print(\"Accuracy of each fold:\",sco_forset)\n",
        "print(\"Mean of accuracy\",sco_forset.mean())"
      ]
    },
    {
      "cell_type": "code",
      "source": [
        "sco_forset = cross_val_score(forest_clf,X_train_rfe,train_TargetClass, cv=10,scoring=\"precision\")\n",
        "print(\"Accuracy of each fold:\",sco_forset)\n",
        "print(\"Mean of accuracy\",sco_forset.mean())"
      ],
      "metadata": {
        "colab": {
          "base_uri": "https://localhost:8080/"
        },
        "id": "WkMqo56AXGjS",
        "outputId": "daee7b5d-26b0-46ea-ffd5-a54d453361eb"
      },
      "execution_count": null,
      "outputs": [
        {
          "output_type": "stream",
          "name": "stdout",
          "text": [
            "Accuracy of each fold: [0.57142857 0.60465116 0.63888889 0.65714286 0.72972973 0.58536585\n",
            " 0.78787879 0.64516129 0.625      0.71875   ]\n",
            "Mean of accuracy 0.656399714184065\n"
          ]
        }
      ]
    },
    {
      "cell_type": "markdown",
      "metadata": {
        "id": "_W4R1tl7M9wo"
      },
      "source": [
        "**decision tree classifier** **cross validation:**"
      ]
    },
    {
      "cell_type": "code",
      "execution_count": null,
      "metadata": {
        "colab": {
          "base_uri": "https://localhost:8080/"
        },
        "id": "CHgNFTRlMfA8",
        "outputId": "833a2d28-be33-4053-a9de-55374fc7d650"
      },
      "outputs": [
        {
          "output_type": "stream",
          "name": "stdout",
          "text": [
            "Accuracy of each fold: [0.63043478 0.61956522 0.67934783 0.60869565 0.67213115 0.6284153\n",
            " 0.67213115 0.61202186 0.61202186 0.6010929 ]\n",
            "Mean of accuracy 0.6335857685911143\n"
          ]
        }
      ],
      "source": [
        "#DecisionTreeClassifier\n",
        "clf = DecisionTreeClassifier(max_depth=5,criterion=\"entropy\",splitter=\"best\",min_samples_split=3)\n",
        "clf = clf.fit(X_train_rfe,train_TargetClass)\n",
        "sco_clf = cross_val_score(clf,X_train_rfe,train_TargetClass, cv=10,scoring=\"accuracy\")\n",
        "print(\"Accuracy of each fold:\",sco_clf)\n",
        "print(\"Mean of accuracy\",sco_clf.mean())"
      ]
    },
    {
      "cell_type": "code",
      "source": [
        "sco_clf = cross_val_score(clf,X_train_rfe,train_TargetClass, cv=10,scoring=\"precision\")\n",
        "print(\"Accuracy of each fold:\",sco_clf)\n",
        "print(\"Mean of accuracy\",sco_clf.mean())"
      ],
      "metadata": {
        "colab": {
          "base_uri": "https://localhost:8080/"
        },
        "id": "puW9l6p7XSQn",
        "outputId": "5aa1fd06-0481-48d9-efe5-6e9ecd03404b"
      },
      "execution_count": null,
      "outputs": [
        {
          "output_type": "stream",
          "name": "stdout",
          "text": [
            "Accuracy of each fold: [0.5625     0.5        0.68965517 0.4516129  0.68       0.52380952\n",
            " 0.69565217 0.47368421 0.48571429 0.44827586]\n",
            "Mean of accuracy 0.5510904131671734\n"
          ]
        }
      ]
    },
    {
      "cell_type": "markdown",
      "metadata": {
        "id": "IcERpBVSNI8X"
      },
      "source": [
        "**Naive bayes cross validation:**"
      ]
    },
    {
      "cell_type": "code",
      "execution_count": null,
      "metadata": {
        "colab": {
          "base_uri": "https://localhost:8080/"
        },
        "id": "VgXsIUTeOlAS",
        "outputId": "5089369c-167a-46e6-b097-e23698e15e9f"
      },
      "outputs": [
        {
          "output_type": "stream",
          "name": "stdout",
          "text": [
            "Accuracy of each fold: [0.67934783 0.5923913  0.66847826 0.6576087  0.65027322 0.54644809\n",
            " 0.66120219 0.63387978 0.56284153 0.60655738]\n",
            "Mean of accuracy 0.6259028272748871\n"
          ]
        }
      ],
      "source": [
        "#NaiveBayesClassifier\n",
        "GNB = GaussianNB(var_smoothing=1e-9)\n",
        "GNB.fit(X_train_rfe,train_TargetClass)\n",
        "sco_GNB = cross_val_score(GNB,X_train_rfe,train_TargetClass, cv=10,scoring=\"accuracy\")\n",
        "print(\"Accuracy of each fold:\",sco_GNB)\n",
        "print(\"Mean of accuracy\",sco_GNB.mean())"
      ]
    },
    {
      "cell_type": "code",
      "source": [
        "sco_GNB = cross_val_score(GNB,X_train_rfe,train_TargetClass, cv=10,scoring=\"precision\")\n",
        "print(\"Accuracy of each fold:\",sco_GNB)\n",
        "print(\"Mean of accuracy\",sco_GNB.mean())"
      ],
      "metadata": {
        "colab": {
          "base_uri": "https://localhost:8080/"
        },
        "id": "WRaXJxBQXWnd",
        "outputId": "8d668fd1-211d-4aff-d57f-84f68edb7726"
      },
      "execution_count": null,
      "outputs": [
        {
          "output_type": "stream",
          "name": "stdout",
          "text": [
            "Accuracy of each fold: [0.68965517 0.4137931  0.66666667 0.64       0.58064516 0.29411765\n",
            " 0.66666667 0.61538462 0.36111111 0.45454545]\n",
            "Mean of accuracy 0.5382585598585728\n"
          ]
        }
      ]
    },
    {
      "cell_type": "markdown",
      "metadata": {
        "id": "auZnSP_NTig5"
      },
      "source": [
        "# **Models' evaluation:**"
      ]
    },
    {
      "cell_type": "markdown",
      "metadata": {
        "id": "PNvb1_p5pJjP"
      },
      "source": [
        "**Random forset:**"
      ]
    },
    {
      "cell_type": "code",
      "execution_count": null,
      "metadata": {
        "id": "AKG94jdRpJjQ"
      },
      "outputs": [],
      "source": [
        "test_TargetClass_forest=forest_clf.predict(X_test_rfe)"
      ]
    },
    {
      "cell_type": "code",
      "execution_count": null,
      "metadata": {
        "colab": {
          "base_uri": "https://localhost:8080/"
        },
        "id": "YZ9BABBlpJjQ",
        "outputId": "6b0bb52e-d761-44ac-f5ba-07cc3aabb950"
      },
      "outputs": [
        {
          "output_type": "execute_result",
          "data": {
            "text/plain": [
              "0.6875"
            ]
          },
          "metadata": {},
          "execution_count": 38
        }
      ],
      "source": [
        "#precision_score\n",
        "rf_p=precision_score(test_TargetClass, test_TargetClass_forest)\n",
        "rf_p"
      ]
    },
    {
      "cell_type": "markdown",
      "metadata": {
        "id": "5wyy1ph9nnSo"
      },
      "source": [
        "**GNB**"
      ]
    },
    {
      "cell_type": "code",
      "execution_count": null,
      "metadata": {
        "id": "sTcwJvIuoLww"
      },
      "outputs": [],
      "source": [
        "test_TargetClass_GNB=GNB.predict(X_test_rfe)"
      ]
    },
    {
      "cell_type": "code",
      "execution_count": null,
      "metadata": {
        "colab": {
          "base_uri": "https://localhost:8080/"
        },
        "id": "kuPHaQxyoWD9",
        "outputId": "cd16799b-0868-48e3-eaa3-813ccb989b8f"
      },
      "outputs": [
        {
          "output_type": "execute_result",
          "data": {
            "text/plain": [
              "0.5375"
            ]
          },
          "metadata": {},
          "execution_count": 40
        }
      ],
      "source": [
        "#precision_score\n",
        "gnb_p=precision_score(test_TargetClass, test_TargetClass_GNB)\n",
        "gnb_p"
      ]
    },
    {
      "cell_type": "markdown",
      "metadata": {
        "id": "NBArV5sLngqt"
      },
      "source": [
        "**Decision Tree**"
      ]
    },
    {
      "cell_type": "code",
      "execution_count": null,
      "metadata": {
        "id": "s6HJcZJ-npVi"
      },
      "outputs": [],
      "source": [
        "test_TargetClass_CLF=clf.predict(X_test_rfe)"
      ]
    },
    {
      "cell_type": "code",
      "execution_count": null,
      "metadata": {
        "colab": {
          "base_uri": "https://localhost:8080/"
        },
        "id": "8gx09-VGn-PD",
        "outputId": "95ada944-8778-4ff5-8183-58a9dcbc3b4e"
      },
      "outputs": [
        {
          "output_type": "execute_result",
          "data": {
            "text/plain": [
              "0.7647058823529411"
            ]
          },
          "metadata": {},
          "execution_count": 42
        }
      ],
      "source": [
        "#precision_score\n",
        "dt_p=precision_score(test_TargetClass, test_TargetClass_CLF)\n",
        "dt_p"
      ]
    },
    {
      "cell_type": "markdown",
      "source": [
        "**Comparison of models’ performance using**"
      ],
      "metadata": {
        "id": "S0nWPS2vSa_f"
      }
    },
    {
      "cell_type": "code",
      "execution_count": null,
      "metadata": {
        "colab": {
          "base_uri": "https://localhost:8080/"
        },
        "id": "8fqNQG_QokfA",
        "outputId": "08cb5882-94ec-4e48-d50f-eb7b0def6129"
      },
      "outputs": [
        {
          "output_type": "display_data",
          "data": {
            "text/plain": [
              "<Figure size 432x288 with 1 Axes>"
            ],
            "image/png": "[encoded data removed]"
          },
          "metadata": {
            "needs_background": "light"
          }
        }
      ],
      "source": [
        "classifiers=['Random Forest','Decision Tree','GNB']\n",
        "precision = [rf_p,dt_p,gnb_p]\n",
        "plt.bar(classifiers,precision)\n",
        "plt.show()"
      ]
    },
    {
      "cell_type": "markdown",
      "source": [
        "**Which model we select and why:**"
      ],
      "metadata": {
        "id": "a6FI9EjZSw_j"
      }
    },
    {
      "cell_type": "markdown",
      "source": [
        "Decision Tree because it has larger precision compared to other models"
      ],
      "metadata": {
        "id": "v5MsvMDlS5lm"
      }
    },
    {
      "cell_type": "markdown",
      "metadata": {
        "id": "rkrS74UTo3Vs"
      },
      "source": [
        "# **test data:**"
      ]
    },
    {
      "cell_type": "code",
      "execution_count": null,
      "metadata": {
        "colab": {
          "base_uri": "https://localhost:8080/",
          "height": 423
        },
        "id": "rmWUx01lhvqn",
        "outputId": "5dd29f20-b7ac-4bfd-8c95-b89a81b19669"
      },
      "outputs": [
        {
          "output_type": "execute_result",
          "data": {
            "text/plain": [
              "           ph    Hardness        Solids  Chloramines     Sulfate  \\\n",
              "0    8.813505  236.392817  40684.390014     6.608775  303.529818   \n",
              "1    8.466013  224.174936  22523.124552     6.668868  286.943922   \n",
              "2    6.350290  190.383738  14905.393852     5.537830  333.775777   \n",
              "3    9.578227  205.748742  33080.588825     5.659848  356.698301   \n",
              "4    7.300990  182.447697  29136.338677     8.253015  333.775777   \n",
              "..        ...         ...           ...          ...         ...   \n",
              "978  5.921247  200.943730  17397.402858     6.756200  279.202307   \n",
              "979  7.388519  201.057714  13921.146217     7.766495  333.775777   \n",
              "980  7.553845  212.264441  14319.401370     5.793012  362.852654   \n",
              "981  7.122637  183.402648  31295.902410     4.425026  333.775777   \n",
              "982  8.370440  231.442553  15063.814968    12.279374  333.775777   \n",
              "\n",
              "     Conductivity  Organic_carbon  Trihalomethanes  Turbidity  \n",
              "0      278.355123       14.576057        72.872697   4.242460  \n",
              "1      330.044715       17.744096        77.817804   3.946621  \n",
              "2      446.840605       13.983567        67.817096   4.265233  \n",
              "3      333.069911       16.984961        68.906088   3.419239  \n",
              "4      307.433303        8.730149        49.895342   4.596347  \n",
              "..            ...             ...              ...        ...  \n",
              "978    380.499818       11.255357        31.966297   3.746776  \n",
              "979    560.774729       14.467095        74.374018   4.409054  \n",
              "980    450.535910       18.176483        66.396293   4.374564  \n",
              "981    411.616070       14.066057        77.185792   3.750447  \n",
              "982    422.293819       15.027088        67.503004   3.210635  \n",
              "\n",
              "[983 rows x 9 columns]"
            ],
            "text/html": [
              "\n",
              "  <div id=\"df-b94db71e-28ae-4642-9ea9-6da14093ae6f\">\n",
              "    <div class=\"colab-df-container\">\n",
              "      <div>\n",
              "<style scoped>\n",
              "    .dataframe tbody tr th:only-of-type {\n",
              "        vertical-align: middle;\n",
              "    }\n",
              "\n",
              "    .dataframe tbody tr th {\n",
              "        vertical-align: top;\n",
              "    }\n",
              "\n",
              "    .dataframe thead th {\n",
              "        text-align: right;\n",
              "    }\n",
              "</style>\n",
              "<table border=\"1\" class=\"dataframe\">\n",
              "  <thead>\n",
              "    <tr style=\"text-align: right;\">\n",
              "      <th></th>\n",
              "      <th>ph</th>\n",
              "      <th>Hardness</th>\n",
              "      <th>Solids</th>\n",
              "      <th>Chloramines</th>\n",
              "      <th>Sulfate</th>\n",
              "      <th>Conductivity</th>\n",
              "      <th>Organic_carbon</th>\n",
              "      <th>Trihalomethanes</th>\n",
              "      <th>Turbidity</th>\n",
              "    </tr>\n",
              "  </thead>\n",
              "  <tbody>\n",
              "    <tr>\n",
              "      <th>0</th>\n",
              "      <td>8.813505</td>\n",
              "      <td>236.392817</td>\n",
              "      <td>40684.390014</td>\n",
              "      <td>6.608775</td>\n",
              "      <td>303.529818</td>\n",
              "      <td>278.355123</td>\n",
              "      <td>14.576057</td>\n",
              "      <td>72.872697</td>\n",
              "      <td>4.242460</td>\n",
              "    </tr>\n",
              "    <tr>\n",
              "      <th>1</th>\n",
              "      <td>8.466013</td>\n",
              "      <td>224.174936</td>\n",
              "      <td>22523.124552</td>\n",
              "      <td>6.668868</td>\n",
              "      <td>286.943922</td>\n",
              "      <td>330.044715</td>\n",
              "      <td>17.744096</td>\n",
              "      <td>77.817804</td>\n",
              "      <td>3.946621</td>\n",
              "    </tr>\n",
              "    <tr>\n",
              "      <th>2</th>\n",
              "      <td>6.350290</td>\n",
              "      <td>190.383738</td>\n",
              "      <td>14905.393852</td>\n",
              "      <td>5.537830</td>\n",
              "      <td>333.775777</td>\n",
              "      <td>446.840605</td>\n",
              "      <td>13.983567</td>\n",
              "      <td>67.817096</td>\n",
              "      <td>4.265233</td>\n",
              "    </tr>\n",
              "    <tr>\n",
              "      <th>3</th>\n",
              "      <td>9.578227</td>\n",
              "      <td>205.748742</td>\n",
              "      <td>33080.588825</td>\n",
              "      <td>5.659848</td>\n",
              "      <td>356.698301</td>\n",
              "      <td>333.069911</td>\n",
              "      <td>16.984961</td>\n",
              "      <td>68.906088</td>\n",
              "      <td>3.419239</td>\n",
              "    </tr>\n",
              "    <tr>\n",
              "      <th>4</th>\n",
              "      <td>7.300990</td>\n",
              "      <td>182.447697</td>\n",
              "      <td>29136.338677</td>\n",
              "      <td>8.253015</td>\n",
              "      <td>333.775777</td>\n",
              "      <td>307.433303</td>\n",
              "      <td>8.730149</td>\n",
              "      <td>49.895342</td>\n",
              "      <td>4.596347</td>\n",
              "    </tr>\n",
              "    <tr>\n",
              "      <th>...</th>\n",
              "      <td>...</td>\n",
              "      <td>...</td>\n",
              "      <td>...</td>\n",
              "      <td>...</td>\n",
              "      <td>...</td>\n",
              "      <td>...</td>\n",
              "      <td>...</td>\n",
              "      <td>...</td>\n",
              "      <td>...</td>\n",
              "    </tr>\n",
              "    <tr>\n",
              "      <th>978</th>\n",
              "      <td>5.921247</td>\n",
              "      <td>200.943730</td>\n",
              "      <td>17397.402858</td>\n",
              "      <td>6.756200</td>\n",
              "      <td>279.202307</td>\n",
              "      <td>380.499818</td>\n",
              "      <td>11.255357</td>\n",
              "      <td>31.966297</td>\n",
              "      <td>3.746776</td>\n",
              "    </tr>\n",
              "    <tr>\n",
              "      <th>979</th>\n",
              "      <td>7.388519</td>\n",
              "      <td>201.057714</td>\n",
              "      <td>13921.146217</td>\n",
              "      <td>7.766495</td>\n",
              "      <td>333.775777</td>\n",
              "      <td>560.774729</td>\n",
              "      <td>14.467095</td>\n",
              "      <td>74.374018</td>\n",
              "      <td>4.409054</td>\n",
              "    </tr>\n",
              "    <tr>\n",
              "      <th>980</th>\n",
              "      <td>7.553845</td>\n",
              "      <td>212.264441</td>\n",
              "      <td>14319.401370</td>\n",
              "      <td>5.793012</td>\n",
              "      <td>362.852654</td>\n",
              "      <td>450.535910</td>\n",
              "      <td>18.176483</td>\n",
              "      <td>66.396293</td>\n",
              "      <td>4.374564</td>\n",
              "    </tr>\n",
              "    <tr>\n",
              "      <th>981</th>\n",
              "      <td>7.122637</td>\n",
              "      <td>183.402648</td>\n",
              "      <td>31295.902410</td>\n",
              "      <td>4.425026</td>\n",
              "      <td>333.775777</td>\n",
              "      <td>411.616070</td>\n",
              "      <td>14.066057</td>\n",
              "      <td>77.185792</td>\n",
              "      <td>3.750447</td>\n",
              "    </tr>\n",
              "    <tr>\n",
              "      <th>982</th>\n",
              "      <td>8.370440</td>\n",
              "      <td>231.442553</td>\n",
              "      <td>15063.814968</td>\n",
              "      <td>12.279374</td>\n",
              "      <td>333.775777</td>\n",
              "      <td>422.293819</td>\n",
              "      <td>15.027088</td>\n",
              "      <td>67.503004</td>\n",
              "      <td>3.210635</td>\n",
              "    </tr>\n",
              "  </tbody>\n",
              "</table>\n",
              "<p>983 rows × 9 columns</p>\n",
              "</div>\n",
              "      <button class=\"colab-df-convert\" onclick=\"convertToInteractive('df-b94db71e-28ae-4642-9ea9-6da14093ae6f')\"\n",
              "              title=\"Convert this dataframe to an interactive table.\"\n",
              "              style=\"display:none;\">\n",
              "        \n",
              "  <svg xmlns=\"http://www.w3.org/2000/svg\" height=\"24px\"viewBox=\"0 0 24 24\"\n",
              "       width=\"24px\">\n",
              "    <path d=\"M0 0h24v24H0V0z\" fill=\"none\"/>\n",
              "    <path d=\"M18.56 5.44l.94 2.06.94-2.06 2.06-.94-2.06-.94-.94-2.06-.94 2.06-2.06.94zm-11 1L8.5 8.5l.94-2.06 2.06-.94-2.06-.94L8.5 2.5l-.94 2.06-2.06.94zm10 10l.94 2.06.94-2.06 2.06-.94-2.06-.94-.94-2.06-.94 2.06-2.06.94z\"/><path d=\"M17.41 7.96l-1.37-1.37c-.4-.4-.92-.59-1.43-.59-.52 0-1.04.2-1.43.59L10.3 9.45l-7.72 7.72c-.78.78-.78 2.05 0 2.83L4 21.41c.39.39.9.59 1.41.59.51 0 1.02-.2 1.41-.59l7.78-7.78 2.81-2.81c.8-.78.8-2.07 0-2.86zM5.41 20L4 18.59l7.72-7.72 1.47 1.35L5.41 20z\"/>\n",
              "  </svg>\n",
              "      </button>\n",
              "      \n",
              "  <style>\n",
              "    .colab-df-container {\n",
              "      display:flex;\n",
              "      flex-wrap:wrap;\n",
              "      gap: 12px;\n",
              "    }\n",
              "\n",
              "    .colab-df-convert {\n",
              "      background-color: #E8F0FE;\n",
              "      border: none;\n",
              "      border-radius: 50%;\n",
              "      cursor: pointer;\n",
              "      display: none;\n",
              "      fill: #1967D2;\n",
              "      height: 32px;\n",
              "      padding: 0 0 0 0;\n",
              "      width: 32px;\n",
              "    }\n",
              "\n",
              "    .colab-df-convert:hover {\n",
              "      background-color: #E2EBFA;\n",
              "      box-shadow: 0px 1px 2px rgba(60, 64, 67, 0.3), 0px 1px 3px 1px rgba(60, 64, 67, 0.15);\n",
              "      fill: #174EA6;\n",
              "    }\n",
              "\n",
              "    [theme=dark] .colab-df-convert {\n",
              "      background-color: #3B4455;\n",
              "      fill: #D2E3FC;\n",
              "    }\n",
              "\n",
              "    [theme=dark] .colab-df-convert:hover {\n",
              "      background-color: #434B5C;\n",
              "      box-shadow: 0px 1px 3px 1px rgba(0, 0, 0, 0.15);\n",
              "      filter: drop-shadow(0px 1px 2px rgba(0, 0, 0, 0.3));\n",
              "      fill: #FFFFFF;\n",
              "    }\n",
              "  </style>\n",
              "\n",
              "      <script>\n",
              "        const buttonEl =\n",
              "          document.querySelector('#df-b94db71e-28ae-4642-9ea9-6da14093ae6f button.colab-df-convert');\n",
              "        buttonEl.style.display =\n",
              "          google.colab.kernel.accessAllowed ? 'block' : 'none';\n",
              "\n",
              "        async function convertToInteractive(key) {\n",
              "          const element = document.querySelector('#df-b94db71e-28ae-4642-9ea9-6da14093ae6f');\n",
              "          const dataTable =\n",
              "            await google.colab.kernel.invokeFunction('convertToInteractive',\n",
              "                                                     [key], {});\n",
              "          if (!dataTable) return;\n",
              "\n",
              "          const docLinkHtml = 'Like what you see? Visit the ' +\n",
              "            '<a target=\"_blank\" href=https://colab.research.google.com/notebooks/data_table.ipynb>data table notebook</a>'\n",
              "            + ' to learn more about interactive tables.';\n",
              "          element.innerHTML = '';\n",
              "          dataTable['output_type'] = 'display_data';\n",
              "          await google.colab.output.renderOutput(dataTable, element);\n",
              "          const docLink = document.createElement('div');\n",
              "          docLink.innerHTML = docLinkHtml;\n",
              "          element.appendChild(docLink);\n",
              "        }\n",
              "      </script>\n",
              "    </div>\n",
              "  </div>\n",
              "  "
            ]
          },
          "metadata": {},
          "execution_count": 44
        }
      ],
      "source": [
        "test_data= pd.read_excel(\"test_dataset.xlsx\")\n",
        "test_data"
      ]
    },
    {
      "cell_type": "code",
      "execution_count": null,
      "metadata": {
        "colab": {
          "base_uri": "https://localhost:8080/"
        },
        "id": "jyKYizQwo5vy",
        "outputId": "c36f1a3f-8b4a-49a5-b9a6-dd80684ce1e7"
      },
      "outputs": [
        {
          "output_type": "stream",
          "name": "stdout",
          "text": [
            "           ph    Hardness        Solids  Chloramines     Sulfate  \\\n",
            "0    8.813505  236.392817  40684.390014     6.608775  303.529818   \n",
            "1    8.466013  224.174936  22523.124552     6.668868  286.943922   \n",
            "2    6.350290  190.383738  14905.393852     5.537830  333.775777   \n",
            "3    9.578227  205.748742  33080.588825     5.659848  356.698301   \n",
            "4    7.300990  182.447697  29136.338677     8.253015  333.775777   \n",
            "..        ...         ...           ...          ...         ...   \n",
            "978  5.921247  200.943730  17397.402858     6.756200  279.202307   \n",
            "979  7.388519  201.057714  13921.146217     7.766495  333.775777   \n",
            "980  7.553845  212.264441  14319.401370     5.793012  362.852654   \n",
            "981  7.122637  183.402648  31295.902410     4.425026  333.775777   \n",
            "982  8.370440  231.442553  15063.814968    12.279374  333.775777   \n",
            "\n",
            "     Conductivity  Trihalomethanes  \n",
            "0      278.355123        72.872697  \n",
            "1      330.044715        77.817804  \n",
            "2      446.840605        67.817096  \n",
            "3      333.069911        68.906088  \n",
            "4      307.433303        49.895342  \n",
            "..            ...              ...  \n",
            "978    380.499818        31.966297  \n",
            "979    560.774729        74.374018  \n",
            "980    450.535910        66.396293  \n",
            "981    411.616070        77.185792  \n",
            "982    422.293819        67.503004  \n",
            "\n",
            "[983 rows x 7 columns]\n"
          ]
        }
      ],
      "source": [
        "#drpping unused features\n",
        "testData=pd.DataFrame(test_data)\n",
        "test_data2 = testData.drop([\"Organic_carbon\",\"Turbidity\"], axis='columns')\n",
        "print(test_data2)"
      ]
    },
    {
      "cell_type": "code",
      "execution_count": null,
      "metadata": {
        "id": "K3wlUPuvq28b",
        "colab": {
          "base_uri": "https://localhost:8080/"
        },
        "outputId": "0559e855-eb47-4215-c231-8335c4b61e1d"
      },
      "outputs": [
        {
          "output_type": "stream",
          "name": "stderr",
          "text": [
            "/usr/local/lib/python3.8/dist-packages/sklearn/base.py:443: UserWarning: X has feature names, but DecisionTreeClassifier was fitted without feature names\n",
            "  warnings.warn(\n"
          ]
        }
      ],
      "source": [
        "test_predict=clf.predict(test_data2)\n"
      ]
    },
    {
      "cell_type": "code",
      "execution_count": null,
      "metadata": {
        "colab": {
          "base_uri": "https://localhost:8080/"
        },
        "id": "K0NaYmA9sPPl",
        "outputId": "03a9830a-4875-4bf8-a292-915e5b63ac0e"
      },
      "outputs": [
        {
          "output_type": "stream",
          "name": "stdout",
          "text": [
            "[0 1 0 0 0 0 1 0 0 1 0 0 0 0 0 0 0 1 1 1 0 0 0 0 0 1 0 0 0 1 0 1 0 0 0 0 0\n",
            " 0 0 0 0 0 0 0 0 0 0 0 0 0 0 0 0 0 0 0 0 0 0 0 0 0 0 1 0 0 0 0 0 0 0 0 0 0\n",
            " 0 0 0 1 0 1 0 0 0 0 0 0 0 0 0 1 0 0 0 1 0 0 0 0 0 1 0 0 1 1 0 0 0 0 0 0 0\n",
            " 0 0 0 0 0 1 0 0 1 0 0 0 0 0 0 0 0 0 0 0 0 0 0 0 0 0 0 0 0 0 0 0 0 0 0 0 0\n",
            " 0 0 0 0 0 0 0 0 0 0 0 0 0 1 0 0 0 0 1 0 0 0 0 0 0 0 0 0 0 0 0 1 0 1 0 0 0\n",
            " 0 0 0 0 0 0 0 0 0 0 0 0 0 1 1 0 0 0 0 0 1 0 0 0 0 0 0 0 0 0 1 0 0 1 0 0 0\n",
            " 0 0 0 0 0 0 1 0 1 0 0 1 1 0 0 0 0 0 0 0 0 0 0 0 0 0 0 1 0 0 0 0 0 0 0 1 0\n",
            " 0 0 0 0 0 0 0 0 0 0 1 0 0 0 0 0 0 0 0 0 0 0 0 0 0 1 0 0 0 0 0 0 0 1 1 1 0\n",
            " 0 1 0 1 0 0 0 0 0 0 0 0 0 0 0 0 0 0 0 0 0 0 0 1 0 0 0 0 0 0 0 0 0 0 0 0 0\n",
            " 0 0 0 0 1 0 0 0 0 0 1 0 0 0 0 0 0 0 0 0 0 1 0 0 1 1 0 0 0 0 0 0 0 0 0 0 0\n",
            " 0 0 0 0 1 0 0 0 0 0 0 0 1 0 1 0 0 0 0 0 0 0 0 0 0 0 0 0 0 0 0 0 0 0 1 0 0\n",
            " 0 0 0 0 0 0 0 0 0 0 0 1 0 0 0 0 0 0 1 0 0 0 0 0 0 0 0 0 0 0 0 0 1 1 0 0 0\n",
            " 0 0 0 0 0 0 0 0 0 0 0 1 0 1 0 0 0 0 0 0 0 0 0 0 0 0 0 0 0 0 0 0 0 0 0 0 0\n",
            " 0 0 0 1 0 0 0 0 0 0 0 0 1 0 0 1 0 1 0 0 0 1 0 0 0 0 0 0 0 0 0 0 0 0 0 1 0\n",
            " 0 0 0 0 0 0 0 0 0 1 0 0 0 0 0 0 0 0 1 0 0 0 0 0 0 0 0 0 0 0 0 0 0 0 0 0 0\n",
            " 0 1 0 0 0 1 0 0 0 0 0 0 1 1 0 0 0 0 0 0 0 1 0 0 0 0 0 0 0 0 0 0 0 1 0 0 0\n",
            " 0 0 0 0 0 0 0 0 0 1 0 0 0 0 1 0 0 0 0 0 0 0 0 0 0 0 0 0 0 0 0 0 0 0 0 0 0\n",
            " 0 0 0 1 0 0 0 0 0 0 0 0 0 0 0 1 0 0 0 0 0 0 1 0 0 0 0 0 0 0 0 0 1 0 1 0 0\n",
            " 0 0 0 0 0 0 0 0 1 0 0 1 0 1 0 0 1 0 0 1 0 0 0 1 0 0 0 0 0 0 0 0 0 0 0 0 0\n",
            " 0 0 0 0 0 0 0 1 0 0 0 0 0 0 1 1 0 0 0 0 0 0 0 0 0 0 0 0 0 0 0 1 1 0 1 0 0\n",
            " 0 0 0 0 0 0 0 0 0 0 0 0 0 0 1 0 1 0 0 1 0 0 1 0 0 1 0 0 0 0 0 0 0 0 0 0 0\n",
            " 0 0 0 0 0 0 0 0 0 0 0 0 1 0 0 0 1 0 1 0 0 0 0 0 0 0 0 0 0 0 0 0 0 0 1 1 0\n",
            " 0 0 0 0 0 0 0 0 0 0 0 0 1 0 0 0 0 0 1 0 0 0 0 0 0 0 0 0 0 0 0 1 0 0 0 0 0\n",
            " 0 0 0 1 0 0 0 1 0 0 0 0 0 0 1 1 0 0 0 0 1 0 0 0 0 0 0 0 0 0 0 0 1 0 0 0 0\n",
            " 0 0 0 0 0 0 0 0 0 0 0 1 0 0 0 0 0 0 0 0 0 0 0 0 0 0 0 0 0 0 0 1 0 0 0 0 0\n",
            " 0 0 0 0 0 0 0 0 0 1 0 1 1 0 0 0 0 0 0 0 0 0 0 0 0 0 0 0 0 0 0 0 0 0 0 0 0\n",
            " 0 0 0 0 1 1 0 0 0 1 0 0 0 0 1 0 0 0 0 0 0]\n"
          ]
        }
      ],
      "source": [
        "#test predect results \n",
        "print(test_predict)"
      ]
    }
  ],
  "metadata": {
    "colab": {
      "provenance": [],
      "collapsed_sections": [
        "u7vd3RzBMhfP",
        "auZnSP_NTig5"
      ],
      "include_colab_link": true
    },
    "kernelspec": {
      "display_name": "Python 3",
      "name": "python3"
    },
    "language_info": {
      "name": "python"
    }
  },
  "nbformat": 4,
  "nbformat_minor": 0
}